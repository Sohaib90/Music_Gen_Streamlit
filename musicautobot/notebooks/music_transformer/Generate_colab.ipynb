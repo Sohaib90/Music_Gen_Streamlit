{
  "nbformat": 4,
  "nbformat_minor": 0,
  "metadata": {
    "kernelspec": {
      "name": "python3",
      "display_name": "Python 3"
    },
    "language_info": {
      "codemirror_mode": {
        "name": "ipython",
        "version": 3
      },
      "file_extension": ".py",
      "mimetype": "text/x-python",
      "name": "python",
      "nbconvert_exporter": "python",
      "pygments_lexer": "ipython3",
      "version": "3.7.2"
    },
    "colab": {
      "name": "Generate_colab.ipynb",
      "provenance": [],
      "collapsed_sections": [],
      "include_colab_link": true
    },
    "accelerator": "GPU"
  },
  "cells": [
    {
      "cell_type": "markdown",
      "metadata": {
        "id": "view-in-github",
        "colab_type": "text"
      },
      "source": [
        "<a href=\"https://colab.research.google.com/github/bearpelican/musicautobot/blob/master/notebooks/music_transformer/Generate_colab.ipynb\" target=\"_parent\"><img src=\"https://colab.research.google.com/assets/colab-badge.svg\" alt=\"Open In Colab\"/></a>"
      ]
    },
    {
      "cell_type": "code",
      "metadata": {
        "id": "z7ZG7C0jMf7d",
        "colab_type": "code",
        "colab": {}
      },
      "source": [
        "!git clone https://github.com/bearpelican/musicautobot.git"
      ],
      "execution_count": 0,
      "outputs": []
    },
    {
      "cell_type": "code",
      "metadata": {
        "id": "ALIKjODvJdFa",
        "colab_type": "code",
        "colab": {}
      },
      "source": [
        "import os\n",
        "os.chdir('musicautobot')"
      ],
      "execution_count": 0,
      "outputs": []
    },
    {
      "cell_type": "code",
      "metadata": {
        "id": "Sklh_SE1SE8a",
        "colab_type": "code",
        "colab": {}
      },
      "source": [
        "!apt install musescore fluidsynth\n",
        "!cp /usr/share/sounds/sf2/FluidR3_GM.sf2 ./font.sf2"
      ],
      "execution_count": 0,
      "outputs": []
    },
    {
      "cell_type": "code",
      "metadata": {
        "id": "rEWuEC9_M1pi",
        "colab_type": "code",
        "colab": {}
      },
      "source": [
        "!pip install torch fastai music21 pebble fluidsynth midi2audio"
      ],
      "execution_count": 0,
      "outputs": []
    },
    {
      "cell_type": "code",
      "metadata": {
        "id": "dzrRdTvlJdFd",
        "colab_type": "code",
        "colab": {}
      },
      "source": [
        "from musicautobot.numpy_encode import *\n",
        "from musicautobot.utils.file_processing import process_all, process_file\n",
        "from musicautobot.config import *\n",
        "from musicautobot.music_transformer import *\n",
        "from musicautobot.utils.setup_musescore import setup_musescore\n",
        "setup_musescore()"
      ],
      "execution_count": 0,
      "outputs": []
    },
    {
      "cell_type": "code",
      "metadata": {
        "id": "qWjLAgmVXcoB",
        "colab_type": "code",
        "colab": {}
      },
      "source": [
        "from midi2audio import FluidSynth\n",
        "from IPython.display import Audio"
      ],
      "execution_count": 0,
      "outputs": []
    },
    {
      "cell_type": "code",
      "metadata": {
        "id": "j48poJKnXjZp",
        "colab_type": "code",
        "colab": {}
      },
      "source": [
        "# Colab cannot play music directly from music21 - must convert to .wav first\n",
        "def play_wav(stream):\n",
        "    out_midi = stream.write('midi')\n",
        "    out_wav = str(Path(out_midi).with_suffix('.wav'))\n",
        "    FluidSynth(\"font.sf2\").midi_to_audio(out_midi, out_wav)\n",
        "    return Audio(out_wav)\n"
      ],
      "execution_count": 0,
      "outputs": []
    },
    {
      "cell_type": "markdown",
      "metadata": {
        "id": "EckFLJkjJdFg",
        "colab_type": "text"
      },
      "source": [
        "# Generate Music with Pretrained Model"
      ]
    },
    {
      "cell_type": "markdown",
      "metadata": {
        "id": "FmhNm2TcJdFh",
        "colab_type": "text"
      },
      "source": [
        "### Load Pretrained"
      ]
    },
    {
      "cell_type": "code",
      "metadata": {
        "id": "hH7drZxkJdFi",
        "colab_type": "code",
        "colab": {}
      },
      "source": [
        "# Location of your midi files\n",
        "midi_path =  Path('data/midi/examples')\n",
        "\n",
        "# Location of saved datset\n",
        "data_path = Path('data/numpy')"
      ],
      "execution_count": 0,
      "outputs": []
    },
    {
      "cell_type": "code",
      "metadata": {
        "id": "eoDJWuSaJdFk",
        "colab_type": "code",
        "colab": {}
      },
      "source": [
        "# Data\n",
        "data = MusicDataBunch.empty(data_path)\n",
        "vocab = data.vocab\n",
        "\n",
        "# For Saved Data:\n",
        "# data = load_data(data_path, 'musicitem_data_save.pkl')"
      ],
      "execution_count": 0,
      "outputs": []
    },
    {
      "cell_type": "code",
      "metadata": {
        "id": "JZeSORnPJdFm",
        "colab_type": "code",
        "colab": {}
      },
      "source": [
        "# Pretrained Model\n",
        "# Download pretrained model if you haven't already\n",
        "pretrained_url = 'https://ashaw-midi-web-server.s3-us-west-2.amazonaws.com/pretrained/MusicTransformerKeyC.pth'\n",
        "# pretrained_url = 'https://ashaw-midi-web-server.s3-us-west-2.amazonaws.com/pretrained/MusicTransformer.pth'\n",
        "\n",
        "pretrained_path = data_path/'pretrained'/Path(pretrained_url).name\n",
        "pretrained_path.parent.mkdir(parents=True, exist_ok=True)\n",
        "download_url(pretrained_url, dest=pretrained_path)"
      ],
      "execution_count": 0,
      "outputs": []
    },
    {
      "cell_type": "code",
      "metadata": {
        "id": "CJqx0wAGJdFp",
        "colab_type": "code",
        "colab": {}
      },
      "source": [
        "# Learner\n",
        "learn = music_model_learner(data, pretrained_path=pretrained_path)"
      ],
      "execution_count": 0,
      "outputs": []
    },
    {
      "cell_type": "markdown",
      "metadata": {
        "id": "G3HDp9EMJdFr",
        "colab_type": "text"
      },
      "source": [
        "## Prediction"
      ]
    },
    {
      "cell_type": "markdown",
      "metadata": {
        "id": "UDWCdsHFJdFr",
        "colab_type": "text"
      },
      "source": [
        "#### Choose existing midi file as a starting point"
      ]
    },
    {
      "cell_type": "code",
      "metadata": {
        "id": "61MAPpw0JdFs",
        "colab_type": "code",
        "colab": {}
      },
      "source": [
        "midi_files = get_files(midi_path, recurse=True, extensions='.mid'); midi_files[:4]"
      ],
      "execution_count": 0,
      "outputs": []
    },
    {
      "cell_type": "code",
      "metadata": {
        "id": "OJA121IEJdFu",
        "colab_type": "code",
        "colab": {}
      },
      "source": [
        "idx = 1\n",
        "f = midi_files[idx]; f"
      ],
      "execution_count": 0,
      "outputs": []
    },
    {
      "cell_type": "markdown",
      "metadata": {
        "id": "nJShT9HKJdFw",
        "colab_type": "text"
      },
      "source": [
        "#### NextWord/Autocomplete\n",
        "\n",
        "Trim the song to only a few notes. Model will use these notes a seed and continue the idea"
      ]
    },
    {
      "cell_type": "code",
      "metadata": {
        "id": "WUPmoGqcJdFx",
        "colab_type": "code",
        "colab": {}
      },
      "source": [
        "cutoff_beat = 10\n",
        "\n",
        "item = MusicItem.from_file(f, data.vocab)\n",
        "seed_item = item.trim_to_beat(cutoff_beat)"
      ],
      "execution_count": 0,
      "outputs": []
    },
    {
      "cell_type": "code",
      "metadata": {
        "id": "eUwtyXdkJdFz",
        "colab_type": "code",
        "colab": {}
      },
      "source": [
        "seed_item.show()"
      ],
      "execution_count": 0,
      "outputs": []
    },
    {
      "cell_type": "code",
      "metadata": {
        "id": "wp3IetalYDM8",
        "colab_type": "code",
        "colab": {}
      },
      "source": [
        "# seed_item.play()\n",
        "play_wav(seed_item.stream)"
      ],
      "execution_count": 0,
      "outputs": []
    },
    {
      "cell_type": "markdown",
      "metadata": {
        "id": "JtYbbqALJdF5",
        "colab_type": "text"
      },
      "source": [
        "#### Use seed to predict next sequence"
      ]
    },
    {
      "cell_type": "code",
      "metadata": {
        "id": "gurscr8IJdF5",
        "colab_type": "code",
        "colab": {}
      },
      "source": [
        "pred, full = learn.predict(seed_item, n_words=400, temperatures=(1.1,0.4), min_bars=12, top_k=24, top_p=0.7)"
      ],
      "execution_count": 0,
      "outputs": []
    },
    {
      "cell_type": "code",
      "metadata": {
        "id": "8wQCDsQ4JdF7",
        "colab_type": "code",
        "colab": {}
      },
      "source": [
        "pred.show()"
      ],
      "execution_count": 0,
      "outputs": []
    },
    {
      "cell_type": "code",
      "metadata": {
        "scrolled": true,
        "id": "8biSV173JdF9",
        "colab_type": "code",
        "colab": {}
      },
      "source": [
        "play_wav(pred.stream)"
      ],
      "execution_count": 0,
      "outputs": []
    },
    {
      "cell_type": "code",
      "metadata": {
        "id": "UZg6f8mVJdF_",
        "colab_type": "code",
        "colab": {}
      },
      "source": [
        "full_song = seed_item.append(pred); full_song.show()"
      ],
      "execution_count": 0,
      "outputs": []
    },
    {
      "cell_type": "code",
      "metadata": {
        "scrolled": true,
        "id": "-48trKgYJdGB",
        "colab_type": "code",
        "colab": {}
      },
      "source": [
        "play_wav(full_song.stream)"
      ],
      "execution_count": 0,
      "outputs": []
    },
    {
      "cell_type": "markdown",
      "metadata": {
        "id": "wQnTf4TxJdGD",
        "colab_type": "text"
      },
      "source": [
        "#### Add More Randomness to prediction"
      ]
    },
    {
      "cell_type": "code",
      "metadata": {
        "id": "s-xmD-avJdGD",
        "colab_type": "code",
        "colab": {}
      },
      "source": [
        "note_temp = 1.4 # Determines amount of variation in note pitches\n",
        "dur_temp = 0.8 # Amount of randomness in rhythm\n",
        "top_k = 30\n",
        "pred, full = learn.predict(seed_item, n_words=400, temperatures=(note_temp, dur_temp), min_bars=12, top_k=top_k, top_p=0.7)"
      ],
      "execution_count": 0,
      "outputs": []
    },
    {
      "cell_type": "code",
      "metadata": {
        "id": "ypaK9xZQJdGG",
        "colab_type": "code",
        "colab": {}
      },
      "source": [
        "pred.show()"
      ],
      "execution_count": 0,
      "outputs": []
    },
    {
      "cell_type": "code",
      "metadata": {
        "id": "wNQGCfyKYjfe",
        "colab_type": "code",
        "colab": {}
      },
      "source": [
        "play_wav(pred.stream)"
      ],
      "execution_count": 0,
      "outputs": []
    },
    {
      "cell_type": "markdown",
      "metadata": {
        "id": "mU1pTyKiJdGJ",
        "colab_type": "text"
      },
      "source": [
        "### Pop Music Theory"
      ]
    },
    {
      "cell_type": "markdown",
      "metadata": {
        "id": "yDLbz6KGJdGK",
        "colab_type": "text"
      },
      "source": [
        "According to hooktheory, the most popular chord progression is I-V-vi-IV  \n",
        "https://www.hooktheory.com/theorytab/common-chord-progressions"
      ]
    },
    {
      "cell_type": "code",
      "metadata": {
        "id": "IJTfsTapJdGK",
        "colab_type": "code",
        "colab": {}
      },
      "source": [
        "# Let's create a partial progression I-V-vi\n",
        "p = music21.stream.Part()\n",
        "p.append(music21.chord.Chord('C4 E4 G4', type='half')) # I\n",
        "p.append(music21.chord.Chord('G3 B3 D4', type='half')) # V\n",
        "p.append(music21.chord.Chord('A3 C4 E4', type='half')) # vi\n",
        "s = music21.stream.Score([p])\n",
        "chord_item = MusicItem.from_stream(s, vocab)\n",
        "chord_item.show()"
      ],
      "execution_count": 0,
      "outputs": []
    },
    {
      "cell_type": "code",
      "metadata": {
        "id": "S2DXA4MaJdGM",
        "colab_type": "code",
        "colab": {}
      },
      "source": [
        "temperaturs = (0.5,0.5) # Let's lower the note randomness for this test\n",
        "pred, full = learn.predict(chord_item, n_words=10, temperatures=(0.5,0.5))\n",
        "full.show()"
      ],
      "execution_count": 0,
      "outputs": []
    },
    {
      "cell_type": "code",
      "metadata": {
        "id": "A-H2KOqmJdGO",
        "colab_type": "code",
        "colab": {}
      },
      "source": [
        "# Predicted chords - IV\n",
        "play_wav(pred.stream)"
      ],
      "execution_count": 0,
      "outputs": []
    },
    {
      "cell_type": "code",
      "metadata": {
        "id": "HP_Ofs_ZJdGP",
        "colab_type": "code",
        "colab": {}
      },
      "source": [
        "# Full sequence\n",
        "chord_item.append(pred).show()"
      ],
      "execution_count": 0,
      "outputs": []
    },
    {
      "cell_type": "markdown",
      "metadata": {
        "id": "dG3J6hM_JdGR",
        "colab_type": "text"
      },
      "source": [
        "Looks like it predicted the most popular progression!"
      ]
    },
    {
      "cell_type": "markdown",
      "metadata": {
        "id": "b-hAoe5HJdGS",
        "colab_type": "text"
      },
      "source": [
        "#### Predict without a starting sequence"
      ]
    },
    {
      "cell_type": "code",
      "metadata": {
        "id": "63TFLmE6JdGS",
        "colab_type": "code",
        "colab": {}
      },
      "source": [
        "empty_item = MusicItem.empty(vocab)"
      ],
      "execution_count": 0,
      "outputs": []
    },
    {
      "cell_type": "code",
      "metadata": {
        "id": "h9gF6rt7JdGU",
        "colab_type": "code",
        "colab": {}
      },
      "source": [
        "pred, full = learn.predict(empty_item, n_words=200)"
      ],
      "execution_count": 0,
      "outputs": []
    },
    {
      "cell_type": "code",
      "metadata": {
        "id": "Khe7AV8HJdGV",
        "colab_type": "code",
        "colab": {}
      },
      "source": [
        "pred.show()"
      ],
      "execution_count": 0,
      "outputs": []
    }
  ]
}