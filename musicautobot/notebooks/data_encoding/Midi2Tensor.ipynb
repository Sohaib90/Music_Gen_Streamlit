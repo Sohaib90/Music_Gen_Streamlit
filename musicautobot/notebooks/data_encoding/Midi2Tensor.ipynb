{
 "cells": [
  {
   "cell_type": "code",
   "execution_count": 1,
   "metadata": {},
   "outputs": [],
   "source": [
    "%reload_ext autoreload\n",
    "%autoreload 2\n",
    "%matplotlib inline"
   ]
  },
  {
   "cell_type": "code",
   "execution_count": 2,
   "metadata": {},
   "outputs": [],
   "source": [
    "import os\n",
    "os.chdir('../../')"
   ]
  },
  {
   "cell_type": "code",
   "execution_count": 3,
   "metadata": {},
   "outputs": [],
   "source": [
    "from musicautobot.numpy_encode import *\n",
    "from musicautobot.config import *\n",
    "from musicautobot.music_transformer import *\n",
    "from musicautobot.multitask_transformer import *\n",
    "from musicautobot.utils import midifile"
   ]
  },
  {
   "cell_type": "markdown",
   "metadata": {},
   "source": [
    "# Encoding Midi Files to Tensor\n",
    "\n",
    "Step by step on transforming a MIDI file into a tensor.\n",
    "This notebook is more of an FYI, as the details are not necessary for training\n",
    "\n",
    "#### For a more high level API, see `MusicItem`\n",
    "\n",
    "MusicItem wraps all these functions in a simplified API. See this [notebook](MusicItem-Transform.ipynb) for more details"
   ]
  },
  {
   "cell_type": "markdown",
   "metadata": {},
   "source": [
    "## Overview\n",
    "\n",
    "Start with something that looks like this:"
   ]
  },
  {
   "cell_type": "code",
   "execution_count": 4,
   "metadata": {},
   "outputs": [
    {
     "data": {
      "image/png": "[encoded data removed]",
      "text/plain": [
       "<IPython.core.display.Image object>"
      ]
     },
     "metadata": {
      "image/png": {
       "height": 150,
       "width": 748
      }
     },
     "output_type": "display_data"
    }
   ],
   "source": [
    "midi_file = Path('data/midi/notebook_examples/single_bar_example.mid')\n",
    "vocab = MusicVocab.create()\n",
    "item = MusicItem.from_file(midi_file, vocab); item.show()"
   ]
  },
  {
   "cell_type": "markdown",
   "metadata": {},
   "source": [
    "And end up with a Tensor that looks like this:"
   ]
  },
  {
   "cell_type": "code",
   "execution_count": 5,
   "metadata": {},
   "outputs": [
    {
     "data": {
      "text/plain": [
       "tensor([  0,   1,  81, 139,  61, 153,  57, 153,  54, 153,   8, 139,  80, 139,\n",
       "          8, 139,  80, 139,   8, 139,  78, 139,   8, 139,  78, 139,   8, 139,\n",
       "         76, 141,   8, 141,  73, 138,   8, 138,  71, 138], device='cuda:0')"
      ]
     },
     "execution_count": 5,
     "metadata": {},
     "output_type": "execute_result"
    }
   ],
   "source": [
    "item.to_tensor()"
   ]
  },
  {
   "cell_type": "markdown",
   "metadata": {},
   "source": [
    "## Basic Steps:"
   ]
  },
  {
   "cell_type": "markdown",
   "metadata": {},
   "source": [
    "A basic step by step process to show how the library encodes a midi file like this:"
   ]
  },
  {
   "cell_type": "markdown",
   "metadata": {},
   "source": [
    "1. MidiFile - Load a single midi file\n",
    "2. Music21 Stream - Python Library helps with manipulating music files\n",
    "3. Chord Encoding - Encode stream to a sparse matrix\n",
    "4. Note Encoding - Intermediate dense matrix encoding\n",
    "5. Tensor Encoding - Final single tensor for training"
   ]
  },
  {
   "cell_type": "markdown",
   "metadata": {},
   "source": [
    "## 1. MidiFile\n",
    "\n",
    "[MIDI](https://en.wikipedia.org/wiki/MIDI) is a standardized digital music representation that looks like this:"
   ]
  },
  {
   "cell_type": "code",
   "execution_count": 6,
   "metadata": {},
   "outputs": [
    {
     "data": {
      "text/plain": [
       "<MidiFile 2 tracks\n",
       "  <MidiTrack 0 -- 44 events\n",
       "    <MidiEvent DeltaTime, t=0, track=0, channel=None>\n",
       "    <MidiEvent SEQUENCE_TRACK_NAME, t=None, track=0, channel=None, data=b'Piano'>\n",
       "    <MidiEvent DeltaTime, t=0, track=0, channel=None>\n",
       "    <MidiEvent PROGRAM_CHANGE, t=None, track=0, channel=1, data=0>\n",
       "    <MidiEvent DeltaTime, t=0, track=0, channel=None>\n",
       "    <MidiEvent PITCH_BEND, t=None, track=0, channel=1, parameter1=0, parameter2=64>\n",
       "    <MidiEvent DeltaTime, t=0, track=0, channel=None>\n",
       "    <MidiEvent PROGRAM_CHANGE, t=None, track=0, channel=1, data=0>\n",
       "    <MidiEvent DeltaTime, t=0, track=0, channel=None>\n",
       "    <MidiEvent SET_TEMPO, t=None, track=0, channel=None, data=b'\\x07\\xa1 '>\n",
       "    <MidiEvent DeltaTime, t=0, track=0, channel=None>\n",
       "    <MidiEvent NOTE_ON, t=None, track=0, channel=1, pitch=72, velocity=90>\n",
       "    <MidiEvent DeltaTime, t=512, track=0, channel=None>\n",
       "    <MidiEvent NOTE_OFF, t=None, track=0, channel=1, pitch=72, velocity=0>\n",
       "    <MidiEvent DeltaTime, t=0, track=0, channel=None>\n",
       "    <MidiEvent NOTE_ON, t=None, track=0, channel=1, pitch=71, velocity=90>\n",
       "    <MidiEvent DeltaTime, t=512, track=0, channel=None>\n",
       "    <MidiEvent NOTE_OFF, t=None, track=0, channel=1, pitch=71, velocity=0>\n",
       "    <MidiEvent DeltaTime, t=0, track=0, channel=None>\n",
       "    <MidiEvent NOTE_ON, t=None, track=0, channel=1, pitch=71, velocity=90>\n",
       "    <MidiEvent DeltaTime, t=512, track=0, channel=None>\n",
       "    <MidiEvent NOTE_OFF, t=None, track=0, channel=1, pitch=71, velocity=0>\n",
       "    <MidiEvent DeltaTime, t=0, track=0, channel=None>\n",
       "    <MidiEvent NOTE_ON, t=None, track=0, channel=1, pitch=69, velocity=90>\n",
       "    <MidiEvent DeltaTime, t=512, track=0, channel=None>\n",
       "    <MidiEvent NOTE_OFF, t=None, track=0, channel=1, pitch=69, velocity=0>\n",
       "    <MidiEvent DeltaTime, t=0, track=0, channel=None>\n",
       "    <MidiEvent NOTE_ON, t=None, track=0, channel=1, pitch=69, velocity=90>\n",
       "    <MidiEvent DeltaTime, t=512, track=0, channel=None>\n",
       "    <MidiEvent NOTE_OFF, t=None, track=0, channel=1, pitch=69, velocity=0>\n",
       "    <MidiEvent DeltaTime, t=0, track=0, channel=None>\n",
       "    <MidiEvent NOTE_ON, t=None, track=0, channel=1, pitch=67, velocity=90>\n",
       "    <MidiEvent DeltaTime, t=1024, track=0, channel=None>\n",
       "    <MidiEvent NOTE_OFF, t=None, track=0, channel=1, pitch=67, velocity=0>\n",
       "    <MidiEvent DeltaTime, t=0, track=0, channel=None>\n",
       "    <MidiEvent NOTE_ON, t=None, track=0, channel=1, pitch=64, velocity=90>\n",
       "    <MidiEvent DeltaTime, t=256, track=0, channel=None>\n",
       "    <MidiEvent NOTE_OFF, t=None, track=0, channel=1, pitch=64, velocity=0>\n",
       "    <MidiEvent DeltaTime, t=0, track=0, channel=None>\n",
       "    <MidiEvent NOTE_ON, t=None, track=0, channel=1, pitch=62, velocity=90>\n",
       "    <MidiEvent DeltaTime, t=256, track=0, channel=None>\n",
       "    <MidiEvent NOTE_OFF, t=None, track=0, channel=1, pitch=62, velocity=0>\n",
       "    <MidiEvent DeltaTime, t=1024, track=0, channel=None>\n",
       "    <MidiEvent END_OF_TRACK, t=None, track=0, channel=None, data=b''>\n",
       "  >\n",
       "  <MidiTrack 1 -- 22 events\n",
       "    <MidiEvent DeltaTime, t=0, track=1, channel=None>\n",
       "    <MidiEvent SEQUENCE_TRACK_NAME, t=None, track=1, channel=None, data=b'Piano'>\n",
       "    <MidiEvent DeltaTime, t=0, track=1, channel=None>\n",
       "    <MidiEvent PROGRAM_CHANGE, t=None, track=1, channel=1, data=0>\n",
       "    <MidiEvent DeltaTime, t=0, track=1, channel=None>\n",
       "    <MidiEvent PITCH_BEND, t=None, track=1, channel=1, parameter1=0, parameter2=64>\n",
       "    <MidiEvent DeltaTime, t=0, track=1, channel=None>\n",
       "    <MidiEvent PROGRAM_CHANGE, t=None, track=1, channel=1, data=0>\n",
       "    <MidiEvent DeltaTime, t=0, track=1, channel=None>\n",
       "    <MidiEvent NOTE_ON, t=None, track=1, channel=1, pitch=45, velocity=90>\n",
       "    <MidiEvent DeltaTime, t=0, track=1, channel=None>\n",
       "    <MidiEvent NOTE_ON, t=None, track=1, channel=1, pitch=48, velocity=90>\n",
       "    <MidiEvent DeltaTime, t=0, track=1, channel=None>\n",
       "    <MidiEvent NOTE_ON, t=None, track=1, channel=1, pitch=52, velocity=90>\n",
       "    <MidiEvent DeltaTime, t=4096, track=1, channel=None>\n",
       "    <MidiEvent NOTE_OFF, t=None, track=1, channel=1, pitch=45, velocity=0>\n",
       "    <MidiEvent DeltaTime, t=0, track=1, channel=None>\n",
       "    <MidiEvent NOTE_OFF, t=None, track=1, channel=1, pitch=48, velocity=0>\n",
       "    <MidiEvent DeltaTime, t=0, track=1, channel=None>\n",
       "    <MidiEvent NOTE_OFF, t=None, track=1, channel=1, pitch=52, velocity=0>\n",
       "    <MidiEvent DeltaTime, t=1024, track=1, channel=None>\n",
       "    <MidiEvent END_OF_TRACK, t=None, track=1, channel=None, data=b''>\n",
       "  >\n",
       ">"
      ]
     },
     "execution_count": 6,
     "metadata": {},
     "output_type": "execute_result"
    }
   ],
   "source": [
    "mf = midifile.file2mf(midi_file); mf"
   ]
  },
  {
   "cell_type": "markdown",
   "metadata": {},
   "source": [
    "## 2. Music21 Stream\n",
    "\n",
    "[Music21](https://web.mit.edu/music21/) is powerful python library that helps us manipulate these MIDI files"
   ]
  },
  {
   "cell_type": "code",
   "execution_count": 7,
   "metadata": {},
   "outputs": [],
   "source": [
    "stream = file2stream(mf)"
   ]
  },
  {
   "cell_type": "code",
   "execution_count": 8,
   "metadata": {},
   "outputs": [
    {
     "name": "stdout",
     "output_type": "stream",
     "text": [
      "{0.0} <music21.stream.Part 0x7fe65c1455f8>\n",
      "    {0.0} <music21.instrument.Piano Piano>\n",
      "    {0.0} <music21.instrument.Piano Piano>\n",
      "    {0.0} <music21.tempo.MetronomeMark animato Quarter=120.0>\n",
      "    {0.0} <music21.note.Note C>\n",
      "    {0.5} <music21.note.Note B>\n",
      "    {1.0} <music21.note.Note B>\n",
      "    {1.5} <music21.note.Note A>\n",
      "    {2.0} <music21.note.Note A>\n",
      "    {2.5} <music21.note.Note G>\n",
      "    {3.5} <music21.note.Note E>\n",
      "    {3.75} <music21.note.Note D>\n",
      "{0.0} <music21.stream.Part 0x7fe65c1452b0>\n",
      "    {0.0} <music21.instrument.Piano Piano>\n",
      "    {0.0} <music21.instrument.Piano Piano>\n",
      "    {0.0} <music21.chord.Chord A2 C3 E3>\n"
     ]
    }
   ],
   "source": [
    "stream.show('text')"
   ]
  },
  {
   "cell_type": "code",
   "execution_count": 9,
   "metadata": {},
   "outputs": [
    {
     "data": {
      "image/png": "[encoded data removed]",
      "text/plain": [
       "<IPython.core.display.Image object>"
      ]
     },
     "metadata": {
      "image/png": {
       "height": 150,
       "width": 748
      }
     },
     "output_type": "display_data"
    }
   ],
   "source": [
    "stream.show()"
   ]
  },
  {
   "cell_type": "code",
   "execution_count": 10,
   "metadata": {},
   "outputs": [
    {
     "data": {
      "text/html": [
       "\n",
       "                <div id='midiPlayerDiv849'></div>\n",
       "                <link rel=\"stylesheet\" href=\"//cuthbertLab.github.io/music21j/css/m21.css\"\n",
       "                    type=\"text/css\" />\n",
       "                <script>\n",
       "                require.config({\n",
       "                    paths: {'music21': '//cuthbertLab.github.io/music21j/src/music21'}\n",
       "                });\n",
       "                require(['music21'], function() {\n",
       "                               mp = new music21.miditools.MidiPlayer();\n",
       "                               mp.addPlayer('#midiPlayerDiv849');\n",
       "                               mp.base64Load('data:audio/midi;base64,TVRoZAAAAAYAAQACBABNVHJrAAAAagD/AwVQaWFubwDAAADgAEAAwAAAwAAA/1EDB6EgAJBIWoQAgEgAAJBHWoQAgEcAAJBHWoQAgEcAAJBFWoQAgEUAAJBFWoQAgEUAAJBDWogAgEMAAJBAWoIAgEAAAJA+WoIAgD4AiAD/LwBNVHJrAAAANAD/AwVQaWFubwDAAADgAEAAwAAAwAAAkC1aAJAwWgCQNFqgAIAtAACAMAAAgDQAiAD/LwA=');\n",
       "                        });\n",
       "                </script>"
      ],
      "text/plain": [
       "<IPython.core.display.HTML object>"
      ]
     },
     "metadata": {},
     "output_type": "display_data"
    }
   ],
   "source": [
    "stream.show('midi')"
   ]
  },
  {
   "cell_type": "markdown",
   "metadata": {},
   "source": [
    "## 3. Chord Encoding\n",
    "\n",
    "Take the music21 stream object and encode it into a sparse numpy matrix. This matrix represents which notes are played at which timesteps"
   ]
  },
  {
   "cell_type": "code",
   "execution_count": 11,
   "metadata": {},
   "outputs": [
    {
     "data": {
      "text/plain": [
       "(17, 2, 128)"
      ]
     },
     "execution_count": 11,
     "metadata": {},
     "output_type": "execute_result"
    }
   ],
   "source": [
    "chordarr = stream2chordarr(stream); chordarr.shape"
   ]
  },
  {
   "cell_type": "markdown",
   "metadata": {},
   "source": [
    "##### Chord Encoding Dimensions - (timestep x track x notes)\n"
   ]
  },
  {
   "cell_type": "markdown",
   "metadata": {},
   "source": [
    "17 = timesteps in song  \n",
    "2 = tracks/parts (track 1 = melody, track 2 = chords)  \n",
    "128 = midi pitch range - [reference](https://www.inspiredacoustics.com/en/MIDI_note_numbers_and_center_frequencies)  "
   ]
  },
  {
   "cell_type": "markdown",
   "metadata": {},
   "source": [
    "##### Representation"
   ]
  },
  {
   "cell_type": "code",
   "execution_count": 12,
   "metadata": {},
   "outputs": [
    {
     "data": {
      "text/plain": [
       "array([[[0., 0., 0., 0., ..., 0., 0., 0., 0.],\n",
       "        [0., 0., 0., 0., ..., 0., 0., 0., 0.]],\n",
       "\n",
       "       [[0., 0., 0., 0., ..., 0., 0., 0., 0.],\n",
       "        [0., 0., 0., 0., ..., 0., 0., 0., 0.]],\n",
       "\n",
       "       [[0., 0., 0., 0., ..., 0., 0., 0., 0.],\n",
       "        [0., 0., 0., 0., ..., 0., 0., 0., 0.]],\n",
       "\n",
       "       [[0., 0., 0., 0., ..., 0., 0., 0., 0.],\n",
       "        [0., 0., 0., 0., ..., 0., 0., 0., 0.]],\n",
       "\n",
       "       ...,\n",
       "\n",
       "       [[0., 0., 0., 0., ..., 0., 0., 0., 0.],\n",
       "        [0., 0., 0., 0., ..., 0., 0., 0., 0.]],\n",
       "\n",
       "       [[0., 0., 0., 0., ..., 0., 0., 0., 0.],\n",
       "        [0., 0., 0., 0., ..., 0., 0., 0., 0.]],\n",
       "\n",
       "       [[0., 0., 0., 0., ..., 0., 0., 0., 0.],\n",
       "        [0., 0., 0., 0., ..., 0., 0., 0., 0.]],\n",
       "\n",
       "       [[0., 0., 0., 0., ..., 0., 0., 0., 0.],\n",
       "        [0., 0., 0., 0., ..., 0., 0., 0., 0.]]])"
      ]
     },
     "execution_count": 12,
     "metadata": {},
     "output_type": "execute_result"
    }
   ],
   "source": [
    "chordarr"
   ]
  },
  {
   "cell_type": "code",
   "execution_count": 13,
   "metadata": {},
   "outputs": [
    {
     "data": {
      "text/plain": [
       "(array([0, 1, 1, 1]), array([72, 45, 48, 52]))"
      ]
     },
     "execution_count": 13,
     "metadata": {},
     "output_type": "execute_result"
    }
   ],
   "source": [
    "# First timestep\n",
    "ts1 = chordarr[0].nonzero(); ts1"
   ]
  },
  {
   "cell_type": "markdown",
   "metadata": {},
   "source": [
    "First timestep, contains the midi notes 72, 45, 48, 52.  \n",
    "Equivalent to (C5 A2 C3 E3)"
   ]
  },
  {
   "cell_type": "code",
   "execution_count": 16,
   "metadata": {},
   "outputs": [
    {
     "data": {
      "text/plain": [
       "<music21.chord.Chord C5 A2 C3 E3>"
      ]
     },
     "execution_count": 16,
     "metadata": {},
     "output_type": "execute_result"
    }
   ],
   "source": [
    "c = music21.chord.Chord(ts1[1].tolist()); c"
   ]
  },
  {
   "cell_type": "code",
   "execution_count": 17,
   "metadata": {},
   "outputs": [
    {
     "data": {
      "image/png": "[encoded data removed]",
      "text/plain": [
       "<IPython.core.display.Image object>"
      ]
     },
     "metadata": {
      "image/png": {
       "height": 85,
       "width": 164
      }
     },
     "output_type": "display_data"
    }
   ],
   "source": [
    "c.show()"
   ]
  },
  {
   "cell_type": "markdown",
   "metadata": {},
   "source": [
    "## 4. Note Encoding\n",
    "\n",
    "Convert chord encoding to a dense matrix representation.  \n",
    "\n",
    "Sparse Matrix (177 x 2 x 128) takes up too much space.  \n",
    "Instead of 0's and 1's. Let's only keep track of when and how long a note is played."
   ]
  },
  {
   "cell_type": "code",
   "execution_count": 18,
   "metadata": {},
   "outputs": [
    {
     "data": {
      "text/plain": [
       "(18, 2)"
      ]
     },
     "execution_count": 18,
     "metadata": {},
     "output_type": "execute_result"
    }
   ],
   "source": [
    "npenc = chordarr2npenc(chordarr); npenc.shape"
   ]
  },
  {
   "cell_type": "markdown",
   "metadata": {},
   "source": [
    "##### Encoding Dimensions: (timesteps, (pitch x duration))\n",
    "\n",
    "18 = timesteps  \n",
    "2 = note representation (pitch x duration)\n",
    "* note pitch range (1-128)\n",
    "  * Separator Index = -1\n",
    "* note duration range (1 - 256)\n",
    "  * Quarter Note = 4"
   ]
  },
  {
   "cell_type": "markdown",
   "metadata": {},
   "source": [
    "#### Comparing matrix sizes:"
   ]
  },
  {
   "cell_type": "code",
   "execution_count": 19,
   "metadata": {},
   "outputs": [
    {
     "data": {
      "text/plain": [
       "('Chord encoding size: 4352', 'Note encoding size: 36')"
      ]
     },
     "execution_count": 19,
     "metadata": {},
     "output_type": "execute_result"
    }
   ],
   "source": [
    "f'Chord encoding size: {np.prod(chordarr.shape)}', f'Note encoding size: {np.prod(npenc.shape)}'"
   ]
  },
  {
   "cell_type": "markdown",
   "metadata": {},
   "source": [
    "Much smaller"
   ]
  },
  {
   "cell_type": "markdown",
   "metadata": {},
   "source": [
    "#### Representation"
   ]
  },
  {
   "cell_type": "markdown",
   "metadata": {},
   "source": [
    "Single note:"
   ]
  },
  {
   "cell_type": "code",
   "execution_count": 20,
   "metadata": {},
   "outputs": [
    {
     "data": {
      "text/plain": [
       "array([[72,  2]])"
      ]
     },
     "execution_count": 20,
     "metadata": {},
     "output_type": "execute_result"
    }
   ],
   "source": [
    "n = npenc[0:1]; n"
   ]
  },
  {
   "cell_type": "markdown",
   "metadata": {},
   "source": [
    "72 = C4 (note pitch)  \n",
    "2 = Eighth Note (2 1/16th notes)"
   ]
  },
  {
   "cell_type": "code",
   "execution_count": 21,
   "metadata": {},
   "outputs": [
    {
     "data": {
      "image/png": "[encoded data removed]",
      "text/plain": [
       "<IPython.core.display.Image object>"
      ]
     },
     "metadata": {
      "image/png": {
       "height": 49,
       "width": 150
      }
     },
     "output_type": "display_data"
    }
   ],
   "source": [
    "npenc2stream(n).show()"
   ]
  },
  {
   "cell_type": "markdown",
   "metadata": {},
   "source": [
    "Chord:"
   ]
  },
  {
   "cell_type": "code",
   "execution_count": 22,
   "metadata": {},
   "outputs": [
    {
     "data": {
      "text/plain": [
       "array([[52, 16],\n",
       "       [48, 16],\n",
       "       [45, 16]])"
      ]
     },
     "execution_count": 22,
     "metadata": {},
     "output_type": "execute_result"
    }
   ],
   "source": [
    "c = npenc[1:4]; c"
   ]
  },
  {
   "cell_type": "code",
   "execution_count": 23,
   "metadata": {},
   "outputs": [
    {
     "data": {
      "image/png": "[encoded data removed]",
      "text/plain": [
       "<IPython.core.display.Image object>"
      ]
     },
     "metadata": {
      "image/png": {
       "height": 35,
       "width": 160
      }
     },
     "output_type": "display_data"
    }
   ],
   "source": [
    "npenc2stream(c).show()"
   ]
  },
  {
   "cell_type": "markdown",
   "metadata": {},
   "source": [
    "#### Full Representation"
   ]
  },
  {
   "cell_type": "code",
   "execution_count": 24,
   "metadata": {},
   "outputs": [
    {
     "data": {
      "text/plain": [
       "array([[72,  2],\n",
       "       [52, 16],\n",
       "       [48, 16],\n",
       "       [45, 16],\n",
       "       [-1,  2],\n",
       "       [71,  2],\n",
       "       [-1,  2],\n",
       "       [71,  2]])"
      ]
     },
     "execution_count": 24,
     "metadata": {},
     "output_type": "execute_result"
    }
   ],
   "source": [
    "npenc[:8]"
   ]
  },
  {
   "cell_type": "markdown",
   "metadata": {},
   "source": [
    "Note encoding represents a stream of notes followed by a `-1` index. \n",
    "\n",
    "`-1` is a special encoding that separates each group of notes to a different timestep."
   ]
  },
  {
   "cell_type": "markdown",
   "metadata": {},
   "source": [
    "The above basically says -\n",
    "1. Play notes (72, 52, 48, 45) all at once\n",
    "2. Wait (-1, 2) for 1/8th beat\n",
    "3. Play (71, 2) - B4 Eighth Note\n",
    "4. Wait (-1, 2) for 1/8th beat\n",
    "5. Play (71, 2) - B4 Eighth Note"
   ]
  },
  {
   "cell_type": "code",
   "execution_count": 25,
   "metadata": {},
   "outputs": [
    {
     "data": {
      "image/png": "[encoded data removed]",
      "text/plain": [
       "<IPython.core.display.Image object>"
      ]
     },
     "metadata": {
      "image/png": {
       "height": 80,
       "width": 238
      }
     },
     "output_type": "display_data"
    }
   ],
   "source": [
    "npenc2stream(npenc[:8]).show()"
   ]
  },
  {
   "cell_type": "markdown",
   "metadata": {},
   "source": [
    "## Tensor Encoding\n",
    "\n",
    "Vocab indexed tensor encoding for training"
   ]
  },
  {
   "cell_type": "code",
   "execution_count": 26,
   "metadata": {},
   "outputs": [
    {
     "data": {
      "text/plain": [
       "(38,)"
      ]
     },
     "execution_count": 26,
     "metadata": {},
     "output_type": "execute_result"
    }
   ],
   "source": [
    "idxenc = npenc2idxenc(npenc, vocab); idxenc.shape"
   ]
  },
  {
   "cell_type": "markdown",
   "metadata": {},
   "source": [
    "Tensor encoding converts note encoding to a single dimensional array, required for training. \n",
    "\n",
    "Indexes are encoded according to the vocab dictionary -"
   ]
  },
  {
   "cell_type": "code",
   "execution_count": 27,
   "metadata": {},
   "outputs": [
    {
     "data": {
      "text/plain": [
       "[('xxbos', 0),\n",
       " ('xxpad', 1),\n",
       " ('xxeos', 2),\n",
       " ('xxs2scls', 3),\n",
       " ('xxmask', 4),\n",
       " ('xxcseq', 5),\n",
       " ('xxmseq', 6),\n",
       " ('xxnscls', 7),\n",
       " ('xxsep', 8),\n",
       " ('n0', 9),\n",
       " ('n1', 10),\n",
       " ('n2', 11),\n",
       " ('n3', 12),\n",
       " ('n4', 13),\n",
       " ('n5', 14)]"
      ]
     },
     "execution_count": 27,
     "metadata": {},
     "output_type": "execute_result"
    }
   ],
   "source": [
    "list(vocab.stoi.items())[:15]"
   ]
  },
  {
   "cell_type": "markdown",
   "metadata": {},
   "source": [
    "#### Representation"
   ]
  },
  {
   "cell_type": "code",
   "execution_count": 28,
   "metadata": {},
   "outputs": [
    {
     "data": {
      "text/plain": [
       "array([  0,   1,  81, 139,  61, 153,  57, 153,  54, 153,   8, 139,  80, 139,   8, 139,  80, 139,   8, 139,  78, 139,\n",
       "         8, 139,  78, 139,   8, 139,  76, 141,   8, 141,  73, 138,   8, 138,  71, 138])"
      ]
     },
     "execution_count": 28,
     "metadata": {},
     "output_type": "execute_result"
    }
   ],
   "source": [
    "idxenc"
   ]
  },
  {
   "cell_type": "markdown",
   "metadata": {},
   "source": [
    "More human readable:"
   ]
  },
  {
   "cell_type": "code",
   "execution_count": 29,
   "metadata": {},
   "outputs": [
    {
     "data": {
      "text/plain": [
       "'xxbos xxpad n72 d2 n52 d16 n48 d16 n45 d16 xxsep d2 n71 d2 xxsep d2 n71 d2 xxsep d2 n69 d2 xxsep d2 n69 d2 xxsep d2 n67 d4 xxsep d4 n64 d1 xxsep d1 n62 d1'"
      ]
     },
     "execution_count": 29,
     "metadata": {},
     "output_type": "execute_result"
    }
   ],
   "source": [
    "vocab.textify(idxenc)"
   ]
  },
  {
   "cell_type": "markdown",
   "metadata": {},
   "source": [
    "'xxbos xxpad' is inserted at the beginning of each sequence so the model can distinguish when multiple music files are combined"
   ]
  }
 ],
 "metadata": {
  "kernelspec": {
   "display_name": "Python 3",
   "language": "python",
   "name": "python3"
  },
  "language_info": {
   "codemirror_mode": {
    "name": "ipython",
    "version": 3
   },
   "file_extension": ".py",
   "mimetype": "text/x-python",
   "name": "python",
   "nbconvert_exporter": "python",
   "pygments_lexer": "ipython3",
   "version": "3.7.3"
  }
 },
 "nbformat": 4,
 "nbformat_minor": 2
}
