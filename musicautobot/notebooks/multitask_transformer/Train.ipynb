{
 "cells": [
  {
   "cell_type": "code",
   "execution_count": 1,
   "metadata": {},
   "outputs": [],
   "source": [
    "%reload_ext autoreload\n",
    "%autoreload 2\n",
    "%matplotlib inline"
   ]
  },
  {
   "cell_type": "code",
   "execution_count": 2,
   "metadata": {},
   "outputs": [],
   "source": [
    "import os\n",
    "os.chdir('../../')"
   ]
  },
  {
   "cell_type": "code",
   "execution_count": 3,
   "metadata": {},
   "outputs": [],
   "source": [
    "from musicautobot.numpy_encode import *\n",
    "from musicautobot.utils.file_processing import process_all, process_file\n",
    "from musicautobot.config import *\n",
    "from musicautobot.music_transformer import *\n",
    "from musicautobot.multitask_transformer import *\n",
    "from musicautobot.utils.stacked_dataloader import StackedDataBunch"
   ]
  },
  {
   "cell_type": "code",
   "execution_count": 4,
   "metadata": {},
   "outputs": [],
   "source": [
    "from fastai.text import *"
   ]
  },
  {
   "cell_type": "markdown",
   "metadata": {},
   "source": [
    "## MultitaskTransformer Training\n",
    "\n",
    "Multitask Training is an extension of [MusicTransformer](../music_transformer/Train.ipynb).\n",
    "\n",
    "Instead a basic language model that predicts the next word...\n",
    "\n",
    "We train on multiple tasks\n",
    "* [Next Word](../music_transformer/Train.ipynb)\n",
    "* [Bert Mask](https://arxiv.org/abs/1810.04805)\n",
    "* [Sequence to Sequence Translation](http://jalammar.github.io/illustrated-transformer/)\n",
    "\n",
    "This gives a more generalized model and also let's you do some really cool [predictions](Generate.ipynb)"
   ]
  },
  {
   "cell_type": "markdown",
   "metadata": {},
   "source": [
    "## End to end training pipeline \n",
    "\n",
    "1. Create and encode dataset\n",
    "2. Initialize Transformer MOdel\n",
    "3. Train\n",
    "4. Predict"
   ]
  },
  {
   "cell_type": "code",
   "execution_count": 5,
   "metadata": {},
   "outputs": [],
   "source": [
    "# Location of your midi files\n",
    "midi_path = Path('data/midi/examples')\n",
    "midi_path.mkdir(parents=True, exist_ok=True)\n",
    "\n",
    "# Location to save dataset\n",
    "data_path = Path('data/numpy')\n",
    "data_path.mkdir(parents=True, exist_ok=True)\n",
    "\n",
    "data_save_name = 'musicitem_data_save.pkl'\n",
    "s2s_data_save_name = 'multiitem_data_save.pkl'"
   ]
  },
  {
   "cell_type": "markdown",
   "metadata": {},
   "source": [
    "## 1. Gather midi dataset"
   ]
  },
  {
   "cell_type": "markdown",
   "metadata": {},
   "source": [
    "Make sure all your midi data is in `musicautobot/data/midi` directory"
   ]
  },
  {
   "cell_type": "markdown",
   "metadata": {},
   "source": [
    "Here's a pretty good dataset with lots of midi data:  \n",
    "https://www.reddit.com/r/datasets/comments/3akhxy/the_largest_midi_collection_on_the_internet/\n",
    "\n",
    "Download the folder and unzip it to `data/midi`"
   ]
  },
  {
   "cell_type": "markdown",
   "metadata": {},
   "source": [
    "## 2. Create dataset from MIDI files"
   ]
  },
  {
   "cell_type": "code",
   "execution_count": 6,
   "metadata": {},
   "outputs": [
    {
     "data": {
      "text/plain": [
       "19"
      ]
     },
     "execution_count": 6,
     "metadata": {},
     "output_type": "execute_result"
    }
   ],
   "source": [
    "midi_files = get_files(midi_path, '.mid', recurse=True); len(midi_files)"
   ]
  },
  {
   "cell_type": "markdown",
   "metadata": {},
   "source": [
    "### 2a. Create NextWord/Mask Dataset"
   ]
  },
  {
   "cell_type": "code",
   "execution_count": 7,
   "metadata": {},
   "outputs": [],
   "source": [
    "processors = [Midi2ItemProcessor()]\n",
    "data = MusicDataBunch.from_files(midi_files, data_path, processors=processors, \n",
    "                                 encode_position=True, dl_tfms=mask_lm_tfm_pitchdur, \n",
    "                                 bptt=5, bs=2)\n",
    "data.save(data_save_name)"
   ]
  },
  {
   "cell_type": "code",
   "execution_count": 8,
   "metadata": {},
   "outputs": [
    {
     "data": {
      "text/plain": [
       "{'msk': {'x': tensor([[ 55, 145,  50, 145,   8],\n",
       "          [  4, 145,  50, 145,   8]]), 'pos': tensor([[0, 0, 0, 0, 0],\n",
       "          [0, 0, 0, 0, 0]])}, 'lm': {'x': tensor([[145,  55, 145,  50, 145],\n",
       "          [145,  55, 145,  50, 145]]), 'pos': tensor([[0, 0, 0, 0, 0],\n",
       "          [0, 0, 0, 0, 0]])}}"
      ]
     },
     "execution_count": 8,
     "metadata": {},
     "output_type": "execute_result"
    }
   ],
   "source": [
    "xb, yb = data.one_batch(); xb"
   ]
  },
  {
   "cell_type": "markdown",
   "metadata": {},
   "source": [
    "Key:\n",
    "* 'msk' = masked input\n",
    "* 'lm' = next word input\n",
    "* 'pos' = timestepped postional encoding. This is in addition to relative positional encoding\n",
    "\n",
    "Note: MultitaskTransformer trains on both the masked input ('msk') and next word input ('lm') at the same time.\n",
    "\n",
    "The encoder is trained on the 'msk' data, while the decoder is trained on 'lm' data.\n",
    "\n"
   ]
  },
  {
   "cell_type": "markdown",
   "metadata": {},
   "source": [
    "### 2b. Create sequence to sequence dataset"
   ]
  },
  {
   "cell_type": "code",
   "execution_count": 9,
   "metadata": {},
   "outputs": [],
   "source": [
    "processors = [Midi2MultitrackProcessor()]\n",
    "s2s_data = MusicDataBunch.from_files(midi_files, data_path, processors=processors, \n",
    "                                     preloader_cls=S2SPreloader, list_cls=S2SItemList,\n",
    "                                     dl_tfms=melody_chord_tfm,\n",
    "                                     bptt=5, bs=2)\n",
    "s2s_data.save(s2s_data_save_name)"
   ]
  },
  {
   "cell_type": "markdown",
   "metadata": {},
   "source": [
    "Structure"
   ]
  },
  {
   "cell_type": "code",
   "execution_count": 10,
   "metadata": {},
   "outputs": [
    {
     "data": {
      "text/plain": [
       "{'c2m': {'enc': tensor([[  5,   1,  61, 145,  59],\n",
       "          [  5,   1,  57, 153,  53]]), 'enc_pos': tensor([[0, 0, 0, 0, 0],\n",
       "          [0, 0, 0, 0, 0]]), 'dec': tensor([[  6,   1,  85, 143,   8],\n",
       "          [  6,   1,  77, 139,   8]]), 'dec_pos': tensor([[0, 0, 0, 0, 0],\n",
       "          [0, 0, 0, 0, 0]])}, 'm2c': {'enc': tensor([[  6,   1,  85, 143,   8],\n",
       "          [  6,   1,  77, 139,   8]]), 'enc_pos': tensor([[0, 0, 0, 0, 0],\n",
       "          [0, 0, 0, 0, 0]]), 'dec': tensor([[  5,   1,  61, 145,  59],\n",
       "          [  5,   1,  57, 153,  53]]), 'dec_pos': tensor([[0, 0, 0, 0, 0],\n",
       "          [0, 0, 0, 0, 0]])}}"
      ]
     },
     "execution_count": 10,
     "metadata": {},
     "output_type": "execute_result"
    }
   ],
   "source": [
    "xb, yb = s2s_data.one_batch(); xb"
   ]
  },
  {
   "cell_type": "markdown",
   "metadata": {},
   "source": [
    "Key:\n",
    "* 'c2m' = chord2melody translation\n",
    " * enc = chord\n",
    " * dec = melody\n",
    "* 'm2c' = next word input\n",
    " * enc = melody\n",
    " * dec = chord\n",
    "* 'pos' = timestepped postional encoding. Gives the model a better reference when translating\n",
    "\n",
    "Note: MultitaskTransformer trains both translations ('m2c' and 'c2m') at the same time. "
   ]
  },
  {
   "cell_type": "markdown",
   "metadata": {},
   "source": [
    "## 3. Initialize Model"
   ]
  },
  {
   "cell_type": "code",
   "execution_count": 11,
   "metadata": {},
   "outputs": [],
   "source": [
    "# Load Data\n",
    "batch_size = 2\n",
    "bptt = 128\n",
    "\n",
    "lm_data = load_data(data_path, data_save_name, \n",
    "                    bs=batch_size, bptt=bptt, encode_position=True,\n",
    "                    dl_tfms=mask_lm_tfm_pitchdur)\n",
    "\n",
    "s2s_data = load_data(data_path, s2s_data_save_name, \n",
    "                     bs=batch_size//2, bptt=bptt,\n",
    "                     preloader_cls=S2SPreloader, dl_tfms=melody_chord_tfm)\n",
    "\n",
    "# Combine both dataloaders so we can train multiple tasks at the same time\n",
    "data = StackedDataBunch([lm_data, s2s_data])"
   ]
  },
  {
   "cell_type": "code",
   "execution_count": 12,
   "metadata": {},
   "outputs": [],
   "source": [
    "# Create Model\n",
    "config = multitask_config(); config\n",
    "\n",
    "learn = multitask_model_learner(data, config.copy())\n",
    "# learn.to_fp16(dynamic=True) # Enable for mixed precision"
   ]
  },
  {
   "cell_type": "code",
   "execution_count": 13,
   "metadata": {},
   "outputs": [
    {
     "data": {
      "text/plain": [
       "MultiTransformer(\n",
       "  (encoder): MTEncoder(\n",
       "    (embed): TransformerEmbedding(\n",
       "      (embed): Embedding(312, 512, padding_idx=1)\n",
       "      (pos_enc): PositionalEncoding()\n",
       "      (beat_enc): Embedding(32, 512, padding_idx=0)\n",
       "      (bar_enc): Embedding(1024, 512, padding_idx=0)\n",
       "      (drop): Dropout(p=0.1, inplace=False)\n",
       "    )\n",
       "    (layers): ModuleList(\n",
       "      (0): MTEncoderBlock(\n",
       "        (mha1): MemMultiHeadRelativeAttentionKV(\n",
       "          (q_wgt): Linear(in_features=512, out_features=512, bias=True)\n",
       "          (k_wgt): Linear(in_features=512, out_features=512, bias=True)\n",
       "          (v_wgt): Linear(in_features=512, out_features=512, bias=True)\n",
       "          (drop_att): Dropout(p=0.1, inplace=False)\n",
       "          (drop_res): Dropout(p=0.1, inplace=False)\n",
       "          (ln): LayerNorm((512,), eps=1e-05, elementwise_affine=True)\n",
       "          (r_attn): Linear(in_features=512, out_features=512, bias=True)\n",
       "        )\n",
       "        (mha2): MemMultiHeadRelativeAttentionKV(\n",
       "          (q_wgt): Linear(in_features=512, out_features=512, bias=True)\n",
       "          (k_wgt): Linear(in_features=512, out_features=512, bias=True)\n",
       "          (v_wgt): Linear(in_features=512, out_features=512, bias=True)\n",
       "          (drop_att): Dropout(p=0.1, inplace=False)\n",
       "          (drop_res): Dropout(p=0.1, inplace=False)\n",
       "          (ln): LayerNorm((512,), eps=1e-05, elementwise_affine=True)\n",
       "          (r_attn): Linear(in_features=512, out_features=512, bias=True)\n",
       "        )\n",
       "        (ff): SequentialEx(\n",
       "          (layers): ModuleList(\n",
       "            (0): Linear(in_features=512, out_features=2048, bias=True)\n",
       "            (1): ReLU(inplace=True)\n",
       "            (2): Dropout(p=0.1, inplace=False)\n",
       "            (3): Linear(in_features=2048, out_features=512, bias=True)\n",
       "            (4): Dropout(p=0.1, inplace=False)\n",
       "            (5): MergeLayer()\n",
       "            (6): LayerNorm((512,), eps=1e-05, elementwise_affine=True)\n",
       "          )\n",
       "        )\n",
       "      )\n",
       "      (1): MTEncoderBlock(\n",
       "        (mha1): MemMultiHeadRelativeAttentionKV(\n",
       "          (q_wgt): Linear(in_features=512, out_features=512, bias=True)\n",
       "          (k_wgt): Linear(in_features=512, out_features=512, bias=True)\n",
       "          (v_wgt): Linear(in_features=512, out_features=512, bias=True)\n",
       "          (drop_att): Dropout(p=0.1, inplace=False)\n",
       "          (drop_res): Dropout(p=0.1, inplace=False)\n",
       "          (ln): LayerNorm((512,), eps=1e-05, elementwise_affine=True)\n",
       "          (r_attn): Linear(in_features=512, out_features=512, bias=True)\n",
       "        )\n",
       "        (mha2): MemMultiHeadRelativeAttentionKV(\n",
       "          (q_wgt): Linear(in_features=512, out_features=512, bias=True)\n",
       "          (k_wgt): Linear(in_features=512, out_features=512, bias=True)\n",
       "          (v_wgt): Linear(in_features=512, out_features=512, bias=True)\n",
       "          (drop_att): Dropout(p=0.1, inplace=False)\n",
       "          (drop_res): Dropout(p=0.1, inplace=False)\n",
       "          (ln): LayerNorm((512,), eps=1e-05, elementwise_affine=True)\n",
       "          (r_attn): Linear(in_features=512, out_features=512, bias=True)\n",
       "        )\n",
       "        (ff): SequentialEx(\n",
       "          (layers): ModuleList(\n",
       "            (0): Linear(in_features=512, out_features=2048, bias=True)\n",
       "            (1): ReLU(inplace=True)\n",
       "            (2): Dropout(p=0.1, inplace=False)\n",
       "            (3): Linear(in_features=2048, out_features=512, bias=True)\n",
       "            (4): Dropout(p=0.1, inplace=False)\n",
       "            (5): MergeLayer()\n",
       "            (6): LayerNorm((512,), eps=1e-05, elementwise_affine=True)\n",
       "          )\n",
       "        )\n",
       "      )\n",
       "      (2): MTEncoderBlock(\n",
       "        (mha1): MemMultiHeadRelativeAttentionKV(\n",
       "          (q_wgt): Linear(in_features=512, out_features=512, bias=True)\n",
       "          (k_wgt): Linear(in_features=512, out_features=512, bias=True)\n",
       "          (v_wgt): Linear(in_features=512, out_features=512, bias=True)\n",
       "          (drop_att): Dropout(p=0.1, inplace=False)\n",
       "          (drop_res): Dropout(p=0.1, inplace=False)\n",
       "          (ln): LayerNorm((512,), eps=1e-05, elementwise_affine=True)\n",
       "          (r_attn): Linear(in_features=512, out_features=512, bias=True)\n",
       "        )\n",
       "        (mha2): MemMultiHeadRelativeAttentionKV(\n",
       "          (q_wgt): Linear(in_features=512, out_features=512, bias=True)\n",
       "          (k_wgt): Linear(in_features=512, out_features=512, bias=True)\n",
       "          (v_wgt): Linear(in_features=512, out_features=512, bias=True)\n",
       "          (drop_att): Dropout(p=0.1, inplace=False)\n",
       "          (drop_res): Dropout(p=0.1, inplace=False)\n",
       "          (ln): LayerNorm((512,), eps=1e-05, elementwise_affine=True)\n",
       "          (r_attn): Linear(in_features=512, out_features=512, bias=True)\n",
       "        )\n",
       "        (ff): SequentialEx(\n",
       "          (layers): ModuleList(\n",
       "            (0): Linear(in_features=512, out_features=2048, bias=True)\n",
       "            (1): ReLU(inplace=True)\n",
       "            (2): Dropout(p=0.1, inplace=False)\n",
       "            (3): Linear(in_features=2048, out_features=512, bias=True)\n",
       "            (4): Dropout(p=0.1, inplace=False)\n",
       "            (5): MergeLayer()\n",
       "            (6): LayerNorm((512,), eps=1e-05, elementwise_affine=True)\n",
       "          )\n",
       "        )\n",
       "      )\n",
       "      (3): MTEncoderBlock(\n",
       "        (mha1): MemMultiHeadRelativeAttentionKV(\n",
       "          (q_wgt): Linear(in_features=512, out_features=512, bias=True)\n",
       "          (k_wgt): Linear(in_features=512, out_features=512, bias=True)\n",
       "          (v_wgt): Linear(in_features=512, out_features=512, bias=True)\n",
       "          (drop_att): Dropout(p=0.1, inplace=False)\n",
       "          (drop_res): Dropout(p=0.1, inplace=False)\n",
       "          (ln): LayerNorm((512,), eps=1e-05, elementwise_affine=True)\n",
       "          (r_attn): Linear(in_features=512, out_features=512, bias=True)\n",
       "        )\n",
       "        (mha2): MemMultiHeadRelativeAttentionKV(\n",
       "          (q_wgt): Linear(in_features=512, out_features=512, bias=True)\n",
       "          (k_wgt): Linear(in_features=512, out_features=512, bias=True)\n",
       "          (v_wgt): Linear(in_features=512, out_features=512, bias=True)\n",
       "          (drop_att): Dropout(p=0.1, inplace=False)\n",
       "          (drop_res): Dropout(p=0.1, inplace=False)\n",
       "          (ln): LayerNorm((512,), eps=1e-05, elementwise_affine=True)\n",
       "          (r_attn): Linear(in_features=512, out_features=512, bias=True)\n",
       "        )\n",
       "        (ff): SequentialEx(\n",
       "          (layers): ModuleList(\n",
       "            (0): Linear(in_features=512, out_features=2048, bias=True)\n",
       "            (1): ReLU(inplace=True)\n",
       "            (2): Dropout(p=0.1, inplace=False)\n",
       "            (3): Linear(in_features=2048, out_features=512, bias=True)\n",
       "            (4): Dropout(p=0.1, inplace=False)\n",
       "            (5): MergeLayer()\n",
       "            (6): LayerNorm((512,), eps=1e-05, elementwise_affine=True)\n",
       "          )\n",
       "        )\n",
       "      )\n",
       "      (4): MTEncoderBlock(\n",
       "        (mha1): MemMultiHeadRelativeAttentionKV(\n",
       "          (q_wgt): Linear(in_features=512, out_features=512, bias=True)\n",
       "          (k_wgt): Linear(in_features=512, out_features=512, bias=True)\n",
       "          (v_wgt): Linear(in_features=512, out_features=512, bias=True)\n",
       "          (drop_att): Dropout(p=0.1, inplace=False)\n",
       "          (drop_res): Dropout(p=0.1, inplace=False)\n",
       "          (ln): LayerNorm((512,), eps=1e-05, elementwise_affine=True)\n",
       "          (r_attn): Linear(in_features=512, out_features=512, bias=True)\n",
       "        )\n",
       "        (mha2): MemMultiHeadRelativeAttentionKV(\n",
       "          (q_wgt): Linear(in_features=512, out_features=512, bias=True)\n",
       "          (k_wgt): Linear(in_features=512, out_features=512, bias=True)\n",
       "          (v_wgt): Linear(in_features=512, out_features=512, bias=True)\n",
       "          (drop_att): Dropout(p=0.1, inplace=False)\n",
       "          (drop_res): Dropout(p=0.1, inplace=False)\n",
       "          (ln): LayerNorm((512,), eps=1e-05, elementwise_affine=True)\n",
       "          (r_attn): Linear(in_features=512, out_features=512, bias=True)\n",
       "        )\n",
       "        (ff): SequentialEx(\n",
       "          (layers): ModuleList(\n",
       "            (0): Linear(in_features=512, out_features=2048, bias=True)\n",
       "            (1): ReLU(inplace=True)\n",
       "            (2): Dropout(p=0.1, inplace=False)\n",
       "            (3): Linear(in_features=2048, out_features=512, bias=True)\n",
       "            (4): Dropout(p=0.1, inplace=False)\n",
       "            (5): MergeLayer()\n",
       "            (6): LayerNorm((512,), eps=1e-05, elementwise_affine=True)\n",
       "          )\n",
       "        )\n",
       "      )\n",
       "      (5): MTEncoderBlock(\n",
       "        (mha1): MemMultiHeadRelativeAttentionKV(\n",
       "          (q_wgt): Linear(in_features=512, out_features=512, bias=True)\n",
       "          (k_wgt): Linear(in_features=512, out_features=512, bias=True)\n",
       "          (v_wgt): Linear(in_features=512, out_features=512, bias=True)\n",
       "          (drop_att): Dropout(p=0.1, inplace=False)\n",
       "          (drop_res): Dropout(p=0.1, inplace=False)\n",
       "          (ln): LayerNorm((512,), eps=1e-05, elementwise_affine=True)\n",
       "          (r_attn): Linear(in_features=512, out_features=512, bias=True)\n",
       "        )\n",
       "        (mha2): MemMultiHeadRelativeAttentionKV(\n",
       "          (q_wgt): Linear(in_features=512, out_features=512, bias=True)\n",
       "          (k_wgt): Linear(in_features=512, out_features=512, bias=True)\n",
       "          (v_wgt): Linear(in_features=512, out_features=512, bias=True)\n",
       "          (drop_att): Dropout(p=0.1, inplace=False)\n",
       "          (drop_res): Dropout(p=0.1, inplace=False)\n",
       "          (ln): LayerNorm((512,), eps=1e-05, elementwise_affine=True)\n",
       "          (r_attn): Linear(in_features=512, out_features=512, bias=True)\n",
       "        )\n",
       "        (ff): SequentialEx(\n",
       "          (layers): ModuleList(\n",
       "            (0): Linear(in_features=512, out_features=2048, bias=True)\n",
       "            (1): ReLU(inplace=True)\n",
       "            (2): Dropout(p=0.1, inplace=False)\n",
       "            (3): Linear(in_features=2048, out_features=512, bias=True)\n",
       "            (4): Dropout(p=0.1, inplace=False)\n",
       "            (5): MergeLayer()\n",
       "            (6): LayerNorm((512,), eps=1e-05, elementwise_affine=True)\n",
       "          )\n",
       "        )\n",
       "      )\n",
       "      (6): MTEncoderBlock(\n",
       "        (mha1): MemMultiHeadRelativeAttentionKV(\n",
       "          (q_wgt): Linear(in_features=512, out_features=512, bias=True)\n",
       "          (k_wgt): Linear(in_features=512, out_features=512, bias=True)\n",
       "          (v_wgt): Linear(in_features=512, out_features=512, bias=True)\n",
       "          (drop_att): Dropout(p=0.1, inplace=False)\n",
       "          (drop_res): Dropout(p=0.1, inplace=False)\n",
       "          (ln): LayerNorm((512,), eps=1e-05, elementwise_affine=True)\n",
       "          (r_attn): Linear(in_features=512, out_features=512, bias=True)\n",
       "        )\n",
       "        (mha2): MemMultiHeadRelativeAttentionKV(\n",
       "          (q_wgt): Linear(in_features=512, out_features=512, bias=True)\n",
       "          (k_wgt): Linear(in_features=512, out_features=512, bias=True)\n",
       "          (v_wgt): Linear(in_features=512, out_features=512, bias=True)\n",
       "          (drop_att): Dropout(p=0.1, inplace=False)\n",
       "          (drop_res): Dropout(p=0.1, inplace=False)\n",
       "          (ln): LayerNorm((512,), eps=1e-05, elementwise_affine=True)\n",
       "          (r_attn): Linear(in_features=512, out_features=512, bias=True)\n",
       "        )\n",
       "        (ff): SequentialEx(\n",
       "          (layers): ModuleList(\n",
       "            (0): Linear(in_features=512, out_features=2048, bias=True)\n",
       "            (1): ReLU(inplace=True)\n",
       "            (2): Dropout(p=0.1, inplace=False)\n",
       "            (3): Linear(in_features=2048, out_features=512, bias=True)\n",
       "            (4): Dropout(p=0.1, inplace=False)\n",
       "            (5): MergeLayer()\n",
       "            (6): LayerNorm((512,), eps=1e-05, elementwise_affine=True)\n",
       "          )\n",
       "        )\n",
       "      )\n",
       "      (7): MTEncoderBlock(\n",
       "        (mha1): MemMultiHeadRelativeAttentionKV(\n",
       "          (q_wgt): Linear(in_features=512, out_features=512, bias=True)\n",
       "          (k_wgt): Linear(in_features=512, out_features=512, bias=True)\n",
       "          (v_wgt): Linear(in_features=512, out_features=512, bias=True)\n",
       "          (drop_att): Dropout(p=0.1, inplace=False)\n",
       "          (drop_res): Dropout(p=0.1, inplace=False)\n",
       "          (ln): LayerNorm((512,), eps=1e-05, elementwise_affine=True)\n",
       "          (r_attn): Linear(in_features=512, out_features=512, bias=True)\n",
       "        )\n",
       "        (mha2): MemMultiHeadRelativeAttentionKV(\n",
       "          (q_wgt): Linear(in_features=512, out_features=512, bias=True)\n",
       "          (k_wgt): Linear(in_features=512, out_features=512, bias=True)\n",
       "          (v_wgt): Linear(in_features=512, out_features=512, bias=True)\n",
       "          (drop_att): Dropout(p=0.1, inplace=False)\n",
       "          (drop_res): Dropout(p=0.1, inplace=False)\n",
       "          (ln): LayerNorm((512,), eps=1e-05, elementwise_affine=True)\n",
       "          (r_attn): Linear(in_features=512, out_features=512, bias=True)\n",
       "        )\n",
       "        (ff): SequentialEx(\n",
       "          (layers): ModuleList(\n",
       "            (0): Linear(in_features=512, out_features=2048, bias=True)\n",
       "            (1): ReLU(inplace=True)\n",
       "            (2): Dropout(p=0.1, inplace=False)\n",
       "            (3): Linear(in_features=2048, out_features=512, bias=True)\n",
       "            (4): Dropout(p=0.1, inplace=False)\n",
       "            (5): MergeLayer()\n",
       "            (6): LayerNorm((512,), eps=1e-05, elementwise_affine=True)\n",
       "          )\n",
       "        )\n",
       "      )\n",
       "    )\n",
       "  )\n",
       "  (decoder): MTEncoder(\n",
       "    (embed): TransformerEmbedding(\n",
       "      (embed): Embedding(312, 512, padding_idx=1)\n",
       "      (pos_enc): PositionalEncoding()\n",
       "      (beat_enc): Embedding(32, 512, padding_idx=0)\n",
       "      (bar_enc): Embedding(1024, 512, padding_idx=0)\n",
       "      (drop): Dropout(p=0.1, inplace=False)\n",
       "    )\n",
       "    (layers): ModuleList(\n",
       "      (0): MTEncoderBlock(\n",
       "        (mha1): MemMultiHeadRelativeAttentionKV(\n",
       "          (q_wgt): Linear(in_features=512, out_features=512, bias=True)\n",
       "          (k_wgt): Linear(in_features=512, out_features=512, bias=True)\n",
       "          (v_wgt): Linear(in_features=512, out_features=512, bias=True)\n",
       "          (drop_att): Dropout(p=0.1, inplace=False)\n",
       "          (drop_res): Dropout(p=0.1, inplace=False)\n",
       "          (ln): LayerNorm((512,), eps=1e-05, elementwise_affine=True)\n",
       "          (r_attn): Linear(in_features=512, out_features=512, bias=True)\n",
       "        )\n",
       "        (mha2): MemMultiHeadRelativeAttentionKV(\n",
       "          (q_wgt): Linear(in_features=512, out_features=512, bias=True)\n",
       "          (k_wgt): Linear(in_features=512, out_features=512, bias=True)\n",
       "          (v_wgt): Linear(in_features=512, out_features=512, bias=True)\n",
       "          (drop_att): Dropout(p=0.1, inplace=False)\n",
       "          (drop_res): Dropout(p=0.1, inplace=False)\n",
       "          (ln): LayerNorm((512,), eps=1e-05, elementwise_affine=True)\n",
       "          (r_attn): Linear(in_features=512, out_features=512, bias=True)\n",
       "        )\n",
       "        (ff): SequentialEx(\n",
       "          (layers): ModuleList(\n",
       "            (0): Linear(in_features=512, out_features=2048, bias=True)\n",
       "            (1): ReLU(inplace=True)\n",
       "            (2): Dropout(p=0.1, inplace=False)\n",
       "            (3): Linear(in_features=2048, out_features=512, bias=True)\n",
       "            (4): Dropout(p=0.1, inplace=False)\n",
       "            (5): MergeLayer()\n",
       "            (6): LayerNorm((512,), eps=1e-05, elementwise_affine=True)\n",
       "          )\n",
       "        )\n",
       "      )\n",
       "      (1): MTEncoderBlock(\n",
       "        (mha1): MemMultiHeadRelativeAttentionKV(\n",
       "          (q_wgt): Linear(in_features=512, out_features=512, bias=True)\n",
       "          (k_wgt): Linear(in_features=512, out_features=512, bias=True)\n",
       "          (v_wgt): Linear(in_features=512, out_features=512, bias=True)\n",
       "          (drop_att): Dropout(p=0.1, inplace=False)\n",
       "          (drop_res): Dropout(p=0.1, inplace=False)\n",
       "          (ln): LayerNorm((512,), eps=1e-05, elementwise_affine=True)\n",
       "          (r_attn): Linear(in_features=512, out_features=512, bias=True)\n",
       "        )\n",
       "        (mha2): MemMultiHeadRelativeAttentionKV(\n",
       "          (q_wgt): Linear(in_features=512, out_features=512, bias=True)\n",
       "          (k_wgt): Linear(in_features=512, out_features=512, bias=True)\n",
       "          (v_wgt): Linear(in_features=512, out_features=512, bias=True)\n",
       "          (drop_att): Dropout(p=0.1, inplace=False)\n",
       "          (drop_res): Dropout(p=0.1, inplace=False)\n",
       "          (ln): LayerNorm((512,), eps=1e-05, elementwise_affine=True)\n",
       "          (r_attn): Linear(in_features=512, out_features=512, bias=True)\n",
       "        )\n",
       "        (ff): SequentialEx(\n",
       "          (layers): ModuleList(\n",
       "            (0): Linear(in_features=512, out_features=2048, bias=True)\n",
       "            (1): ReLU(inplace=True)\n",
       "            (2): Dropout(p=0.1, inplace=False)\n",
       "            (3): Linear(in_features=2048, out_features=512, bias=True)\n",
       "            (4): Dropout(p=0.1, inplace=False)\n",
       "            (5): MergeLayer()\n",
       "            (6): LayerNorm((512,), eps=1e-05, elementwise_affine=True)\n",
       "          )\n",
       "        )\n",
       "      )\n",
       "      (2): MTEncoderBlock(\n",
       "        (mha1): MemMultiHeadRelativeAttentionKV(\n",
       "          (q_wgt): Linear(in_features=512, out_features=512, bias=True)\n",
       "          (k_wgt): Linear(in_features=512, out_features=512, bias=True)\n",
       "          (v_wgt): Linear(in_features=512, out_features=512, bias=True)\n",
       "          (drop_att): Dropout(p=0.1, inplace=False)\n",
       "          (drop_res): Dropout(p=0.1, inplace=False)\n",
       "          (ln): LayerNorm((512,), eps=1e-05, elementwise_affine=True)\n",
       "          (r_attn): Linear(in_features=512, out_features=512, bias=True)\n",
       "        )\n",
       "        (mha2): MemMultiHeadRelativeAttentionKV(\n",
       "          (q_wgt): Linear(in_features=512, out_features=512, bias=True)\n",
       "          (k_wgt): Linear(in_features=512, out_features=512, bias=True)\n",
       "          (v_wgt): Linear(in_features=512, out_features=512, bias=True)\n",
       "          (drop_att): Dropout(p=0.1, inplace=False)\n",
       "          (drop_res): Dropout(p=0.1, inplace=False)\n",
       "          (ln): LayerNorm((512,), eps=1e-05, elementwise_affine=True)\n",
       "          (r_attn): Linear(in_features=512, out_features=512, bias=True)\n",
       "        )\n",
       "        (ff): SequentialEx(\n",
       "          (layers): ModuleList(\n",
       "            (0): Linear(in_features=512, out_features=2048, bias=True)\n",
       "            (1): ReLU(inplace=True)\n",
       "            (2): Dropout(p=0.1, inplace=False)\n",
       "            (3): Linear(in_features=2048, out_features=512, bias=True)\n",
       "            (4): Dropout(p=0.1, inplace=False)\n",
       "            (5): MergeLayer()\n",
       "            (6): LayerNorm((512,), eps=1e-05, elementwise_affine=True)\n",
       "          )\n",
       "        )\n",
       "      )\n",
       "      (3): MTEncoderBlock(\n",
       "        (mha1): MemMultiHeadRelativeAttentionKV(\n",
       "          (q_wgt): Linear(in_features=512, out_features=512, bias=True)\n",
       "          (k_wgt): Linear(in_features=512, out_features=512, bias=True)\n",
       "          (v_wgt): Linear(in_features=512, out_features=512, bias=True)\n",
       "          (drop_att): Dropout(p=0.1, inplace=False)\n",
       "          (drop_res): Dropout(p=0.1, inplace=False)\n",
       "          (ln): LayerNorm((512,), eps=1e-05, elementwise_affine=True)\n",
       "          (r_attn): Linear(in_features=512, out_features=512, bias=True)\n",
       "        )\n",
       "        (mha2): MemMultiHeadRelativeAttentionKV(\n",
       "          (q_wgt): Linear(in_features=512, out_features=512, bias=True)\n",
       "          (k_wgt): Linear(in_features=512, out_features=512, bias=True)\n",
       "          (v_wgt): Linear(in_features=512, out_features=512, bias=True)\n",
       "          (drop_att): Dropout(p=0.1, inplace=False)\n",
       "          (drop_res): Dropout(p=0.1, inplace=False)\n",
       "          (ln): LayerNorm((512,), eps=1e-05, elementwise_affine=True)\n",
       "          (r_attn): Linear(in_features=512, out_features=512, bias=True)\n",
       "        )\n",
       "        (ff): SequentialEx(\n",
       "          (layers): ModuleList(\n",
       "            (0): Linear(in_features=512, out_features=2048, bias=True)\n",
       "            (1): ReLU(inplace=True)\n",
       "            (2): Dropout(p=0.1, inplace=False)\n",
       "            (3): Linear(in_features=2048, out_features=512, bias=True)\n",
       "            (4): Dropout(p=0.1, inplace=False)\n",
       "            (5): MergeLayer()\n",
       "            (6): LayerNorm((512,), eps=1e-05, elementwise_affine=True)\n",
       "          )\n",
       "        )\n",
       "      )\n",
       "      (4): MTEncoderBlock(\n",
       "        (mha1): MemMultiHeadRelativeAttentionKV(\n",
       "          (q_wgt): Linear(in_features=512, out_features=512, bias=True)\n",
       "          (k_wgt): Linear(in_features=512, out_features=512, bias=True)\n",
       "          (v_wgt): Linear(in_features=512, out_features=512, bias=True)\n",
       "          (drop_att): Dropout(p=0.1, inplace=False)\n",
       "          (drop_res): Dropout(p=0.1, inplace=False)\n",
       "          (ln): LayerNorm((512,), eps=1e-05, elementwise_affine=True)\n",
       "          (r_attn): Linear(in_features=512, out_features=512, bias=True)\n",
       "        )\n",
       "        (mha2): MemMultiHeadRelativeAttentionKV(\n",
       "          (q_wgt): Linear(in_features=512, out_features=512, bias=True)\n",
       "          (k_wgt): Linear(in_features=512, out_features=512, bias=True)\n",
       "          (v_wgt): Linear(in_features=512, out_features=512, bias=True)\n",
       "          (drop_att): Dropout(p=0.1, inplace=False)\n",
       "          (drop_res): Dropout(p=0.1, inplace=False)\n",
       "          (ln): LayerNorm((512,), eps=1e-05, elementwise_affine=True)\n",
       "          (r_attn): Linear(in_features=512, out_features=512, bias=True)\n",
       "        )\n",
       "        (ff): SequentialEx(\n",
       "          (layers): ModuleList(\n",
       "            (0): Linear(in_features=512, out_features=2048, bias=True)\n",
       "            (1): ReLU(inplace=True)\n",
       "            (2): Dropout(p=0.1, inplace=False)\n",
       "            (3): Linear(in_features=2048, out_features=512, bias=True)\n",
       "            (4): Dropout(p=0.1, inplace=False)\n",
       "            (5): MergeLayer()\n",
       "            (6): LayerNorm((512,), eps=1e-05, elementwise_affine=True)\n",
       "          )\n",
       "        )\n",
       "      )\n",
       "      (5): MTEncoderBlock(\n",
       "        (mha1): MemMultiHeadRelativeAttentionKV(\n",
       "          (q_wgt): Linear(in_features=512, out_features=512, bias=True)\n",
       "          (k_wgt): Linear(in_features=512, out_features=512, bias=True)\n",
       "          (v_wgt): Linear(in_features=512, out_features=512, bias=True)\n",
       "          (drop_att): Dropout(p=0.1, inplace=False)\n",
       "          (drop_res): Dropout(p=0.1, inplace=False)\n",
       "          (ln): LayerNorm((512,), eps=1e-05, elementwise_affine=True)\n",
       "          (r_attn): Linear(in_features=512, out_features=512, bias=True)\n",
       "        )\n",
       "        (mha2): MemMultiHeadRelativeAttentionKV(\n",
       "          (q_wgt): Linear(in_features=512, out_features=512, bias=True)\n",
       "          (k_wgt): Linear(in_features=512, out_features=512, bias=True)\n",
       "          (v_wgt): Linear(in_features=512, out_features=512, bias=True)\n",
       "          (drop_att): Dropout(p=0.1, inplace=False)\n",
       "          (drop_res): Dropout(p=0.1, inplace=False)\n",
       "          (ln): LayerNorm((512,), eps=1e-05, elementwise_affine=True)\n",
       "          (r_attn): Linear(in_features=512, out_features=512, bias=True)\n",
       "        )\n",
       "        (ff): SequentialEx(\n",
       "          (layers): ModuleList(\n",
       "            (0): Linear(in_features=512, out_features=2048, bias=True)\n",
       "            (1): ReLU(inplace=True)\n",
       "            (2): Dropout(p=0.1, inplace=False)\n",
       "            (3): Linear(in_features=2048, out_features=512, bias=True)\n",
       "            (4): Dropout(p=0.1, inplace=False)\n",
       "            (5): MergeLayer()\n",
       "            (6): LayerNorm((512,), eps=1e-05, elementwise_affine=True)\n",
       "          )\n",
       "        )\n",
       "      )\n",
       "      (6): MTEncoderBlock(\n",
       "        (mha1): MemMultiHeadRelativeAttentionKV(\n",
       "          (q_wgt): Linear(in_features=512, out_features=512, bias=True)\n",
       "          (k_wgt): Linear(in_features=512, out_features=512, bias=True)\n",
       "          (v_wgt): Linear(in_features=512, out_features=512, bias=True)\n",
       "          (drop_att): Dropout(p=0.1, inplace=False)\n",
       "          (drop_res): Dropout(p=0.1, inplace=False)\n",
       "          (ln): LayerNorm((512,), eps=1e-05, elementwise_affine=True)\n",
       "          (r_attn): Linear(in_features=512, out_features=512, bias=True)\n",
       "        )\n",
       "        (mha2): MemMultiHeadRelativeAttentionKV(\n",
       "          (q_wgt): Linear(in_features=512, out_features=512, bias=True)\n",
       "          (k_wgt): Linear(in_features=512, out_features=512, bias=True)\n",
       "          (v_wgt): Linear(in_features=512, out_features=512, bias=True)\n",
       "          (drop_att): Dropout(p=0.1, inplace=False)\n",
       "          (drop_res): Dropout(p=0.1, inplace=False)\n",
       "          (ln): LayerNorm((512,), eps=1e-05, elementwise_affine=True)\n",
       "          (r_attn): Linear(in_features=512, out_features=512, bias=True)\n",
       "        )\n",
       "        (ff): SequentialEx(\n",
       "          (layers): ModuleList(\n",
       "            (0): Linear(in_features=512, out_features=2048, bias=True)\n",
       "            (1): ReLU(inplace=True)\n",
       "            (2): Dropout(p=0.1, inplace=False)\n",
       "            (3): Linear(in_features=2048, out_features=512, bias=True)\n",
       "            (4): Dropout(p=0.1, inplace=False)\n",
       "            (5): MergeLayer()\n",
       "            (6): LayerNorm((512,), eps=1e-05, elementwise_affine=True)\n",
       "          )\n",
       "        )\n",
       "      )\n",
       "      (7): MTEncoderBlock(\n",
       "        (mha1): MemMultiHeadRelativeAttentionKV(\n",
       "          (q_wgt): Linear(in_features=512, out_features=512, bias=True)\n",
       "          (k_wgt): Linear(in_features=512, out_features=512, bias=True)\n",
       "          (v_wgt): Linear(in_features=512, out_features=512, bias=True)\n",
       "          (drop_att): Dropout(p=0.1, inplace=False)\n",
       "          (drop_res): Dropout(p=0.1, inplace=False)\n",
       "          (ln): LayerNorm((512,), eps=1e-05, elementwise_affine=True)\n",
       "          (r_attn): Linear(in_features=512, out_features=512, bias=True)\n",
       "        )\n",
       "        (mha2): MemMultiHeadRelativeAttentionKV(\n",
       "          (q_wgt): Linear(in_features=512, out_features=512, bias=True)\n",
       "          (k_wgt): Linear(in_features=512, out_features=512, bias=True)\n",
       "          (v_wgt): Linear(in_features=512, out_features=512, bias=True)\n",
       "          (drop_att): Dropout(p=0.1, inplace=False)\n",
       "          (drop_res): Dropout(p=0.1, inplace=False)\n",
       "          (ln): LayerNorm((512,), eps=1e-05, elementwise_affine=True)\n",
       "          (r_attn): Linear(in_features=512, out_features=512, bias=True)\n",
       "        )\n",
       "        (ff): SequentialEx(\n",
       "          (layers): ModuleList(\n",
       "            (0): Linear(in_features=512, out_features=2048, bias=True)\n",
       "            (1): ReLU(inplace=True)\n",
       "            (2): Dropout(p=0.1, inplace=False)\n",
       "            (3): Linear(in_features=2048, out_features=512, bias=True)\n",
       "            (4): Dropout(p=0.1, inplace=False)\n",
       "            (5): MergeLayer()\n",
       "            (6): LayerNorm((512,), eps=1e-05, elementwise_affine=True)\n",
       "          )\n",
       "        )\n",
       "      )\n",
       "    )\n",
       "  )\n",
       "  (head): MTLinearDecoder(\n",
       "    (decoder): Linear(in_features=512, out_features=312, bias=True)\n",
       "    (output_dp): RNNDropout()\n",
       "  )\n",
       ")"
      ]
     },
     "execution_count": 13,
     "metadata": {},
     "output_type": "execute_result"
    }
   ],
   "source": [
    "learn.model"
   ]
  },
  {
   "cell_type": "markdown",
   "metadata": {},
   "source": [
    "# 4. Train"
   ]
  },
  {
   "cell_type": "code",
   "execution_count": 14,
   "metadata": {},
   "outputs": [
    {
     "data": {
      "text/html": [
       "<table border=\"1\" class=\"dataframe\">\n",
       "  <thead>\n",
       "    <tr style=\"text-align: left;\">\n",
       "      <th>epoch</th>\n",
       "      <th>train_loss</th>\n",
       "      <th>valid_loss</th>\n",
       "      <th>mask_acc</th>\n",
       "      <th>lm_acc</th>\n",
       "      <th>c2m_acc</th>\n",
       "      <th>m2c_acc</th>\n",
       "      <th>time</th>\n",
       "    </tr>\n",
       "  </thead>\n",
       "  <tbody>\n",
       "    <tr>\n",
       "      <td>0</td>\n",
       "      <td>7.463050</td>\n",
       "      <td>13.395294</td>\n",
       "      <td>0.409395</td>\n",
       "      <td>0.051181</td>\n",
       "      <td>0.251969</td>\n",
       "      <td>0.118110</td>\n",
       "      <td>00:06</td>\n",
       "    </tr>\n",
       "    <tr>\n",
       "      <td>1</td>\n",
       "      <td>7.626351</td>\n",
       "      <td>6.740256</td>\n",
       "      <td>0.388205</td>\n",
       "      <td>0.398039</td>\n",
       "      <td>0.236220</td>\n",
       "      <td>0.433071</td>\n",
       "      <td>00:06</td>\n",
       "    </tr>\n",
       "    <tr>\n",
       "      <td>2</td>\n",
       "      <td>7.211625</td>\n",
       "      <td>5.748559</td>\n",
       "      <td>0.405712</td>\n",
       "      <td>0.398039</td>\n",
       "      <td>0.236220</td>\n",
       "      <td>0.433071</td>\n",
       "      <td>00:06</td>\n",
       "    </tr>\n",
       "    <tr>\n",
       "      <td>3</td>\n",
       "      <td>6.894358</td>\n",
       "      <td>5.479636</td>\n",
       "      <td>0.105859</td>\n",
       "      <td>0.249020</td>\n",
       "      <td>0.251969</td>\n",
       "      <td>0.118110</td>\n",
       "      <td>00:06</td>\n",
       "    </tr>\n",
       "  </tbody>\n",
       "</table>"
      ],
      "text/plain": [
       "<IPython.core.display.HTML object>"
      ]
     },
     "metadata": {},
     "output_type": "display_data"
    }
   ],
   "source": [
    "learn.fit_one_cycle(4)"
   ]
  },
  {
   "cell_type": "code",
   "execution_count": null,
   "metadata": {},
   "outputs": [],
   "source": [
    "learn.save('example')"
   ]
  },
  {
   "cell_type": "markdown",
   "metadata": {},
   "source": [
    "## Predict\n",
    "\n",
    "---\n",
    "See [Generate.ipynb](Generate.ipynb) to use a pretrained model and generate better predictions\n",
    "\n",
    "---"
   ]
  },
  {
   "cell_type": "code",
   "execution_count": 15,
   "metadata": {},
   "outputs": [
    {
     "data": {
      "text/plain": [
       "PosixPath('data/midi/notebook_examples/single_bar_example.mid')"
      ]
     },
     "execution_count": 15,
     "metadata": {},
     "output_type": "execute_result"
    }
   ],
   "source": [
    "# midi_files = get_files(midi_path, '.mid', recurse=True)\n",
    "midi_file = Path('data/midi/notebook_examples/single_bar_example.mid'); midi_file"
   ]
  },
  {
   "cell_type": "code",
   "execution_count": 16,
   "metadata": {},
   "outputs": [
    {
     "data": {
      "text/html": [
       "\n",
       "    <div>\n",
       "        <style>\n",
       "            /* Turns off some styling */\n",
       "            progress {\n",
       "                /* gets rid of default border in Firefox and Opera. */\n",
       "                border: none;\n",
       "                /* Needs to be in here for Safari polyfill so background images work as expected. */\n",
       "                background-size: auto;\n",
       "            }\n",
       "            .progress-bar-interrupted, .progress-bar-interrupted::-webkit-progress-bar {\n",
       "                background: #F44336;\n",
       "            }\n",
       "        </style>\n",
       "      <progress value='20' class='' max='20', style='width:300px; height:20px; vertical-align: middle;'></progress>\n",
       "      100.00% [20/20 00:00<00:00]\n",
       "    </div>\n",
       "    "
      ],
      "text/plain": [
       "<IPython.core.display.HTML object>"
      ]
     },
     "metadata": {},
     "output_type": "display_data"
    },
    {
     "name": "stdout",
     "output_type": "stream",
     "text": [
      "Non midi note detected. Only returning valid portion. Index, seed 18 (28, 2)\n"
     ]
    },
    {
     "data": {
      "image/png": "[encoded data removed]",
      "text/plain": [
       "<IPython.core.display.Image object>"
      ]
     },
     "metadata": {
      "image/png": {
       "height": 80,
       "width": 323
      }
     },
     "output_type": "display_data"
    }
   ],
   "source": [
    "next_word = nw_predict_from_midi(learn, midi_file, n_words=20, seed_len=8); next_word.show()"
   ]
  },
  {
   "cell_type": "code",
   "execution_count": 17,
   "metadata": {},
   "outputs": [
    {
     "data": {
      "text/html": [
       "\n",
       "    <div>\n",
       "        <style>\n",
       "            /* Turns off some styling */\n",
       "            progress {\n",
       "                /* gets rid of default border in Firefox and Opera. */\n",
       "                border: none;\n",
       "                /* Needs to be in here for Safari polyfill so background images work as expected. */\n",
       "                background-size: auto;\n",
       "            }\n",
       "            .progress-bar-interrupted, .progress-bar-interrupted::-webkit-progress-bar {\n",
       "                background: #F44336;\n",
       "            }\n",
       "        </style>\n",
       "      <progress value='0' class='progress-bar-interrupted' max='20', style='width:300px; height:20px; vertical-align: middle;'></progress>\n",
       "      Interrupted\n",
       "    </div>\n",
       "    "
      ],
      "text/plain": [
       "<IPython.core.display.HTML object>"
      ]
     },
     "metadata": {},
     "output_type": "display_data"
    },
    {
     "name": "stdout",
     "output_type": "stream",
     "text": [
      "Predicted past counter-part length. Returning early\n"
     ]
    },
    {
     "data": {
      "image/png": "[encoded data removed]",
      "text/plain": [
       "<IPython.core.display.Image object>"
      ]
     },
     "metadata": {
      "image/png": {
       "height": 118,
       "width": 748
      }
     },
     "output_type": "display_data"
    }
   ],
   "source": [
    "pred_melody = s2s_predict_from_midi(learn, midi_file, n_words=20, seed_len=4, pred_melody=True); pred_melody.show()"
   ]
  },
  {
   "cell_type": "code",
   "execution_count": 18,
   "metadata": {},
   "outputs": [
    {
     "data": {
      "text/html": [
       "\n",
       "    <div>\n",
       "        <style>\n",
       "            /* Turns off some styling */\n",
       "            progress {\n",
       "                /* gets rid of default border in Firefox and Opera. */\n",
       "                border: none;\n",
       "                /* Needs to be in here for Safari polyfill so background images work as expected. */\n",
       "                background-size: auto;\n",
       "            }\n",
       "            .progress-bar-interrupted, .progress-bar-interrupted::-webkit-progress-bar {\n",
       "                background: #F44336;\n",
       "            }\n",
       "        </style>\n",
       "      <progress value='11' class='' max='11', style='width:300px; height:20px; vertical-align: middle;'></progress>\n",
       "      100.00% [11/11 00:00<00:00]\n",
       "    </div>\n",
       "    "
      ],
      "text/plain": [
       "<IPython.core.display.HTML object>"
      ]
     },
     "metadata": {},
     "output_type": "display_data"
    },
    {
     "data": {
      "image/png": "[encoded data removed]",
      "text/plain": [
       "<IPython.core.display.Image object>"
      ]
     },
     "metadata": {
      "image/png": {
       "height": 71,
       "width": 748
      }
     },
     "output_type": "display_data"
    }
   ],
   "source": [
    "pred_notes = mask_predict_from_midi(learn, midi_file, predict_notes=True); pred_notes.show()"
   ]
  }
 ],
 "metadata": {
  "kernelspec": {
   "display_name": "Python 3",
   "language": "python",
   "name": "python3"
  },
  "language_info": {
   "codemirror_mode": {
    "name": "ipython",
    "version": 3
   },
   "file_extension": ".py",
   "mimetype": "text/x-python",
   "name": "python",
   "nbconvert_exporter": "python",
   "pygments_lexer": "ipython3",
   "version": "3.7.4"
  }
 },
 "nbformat": 4,
 "nbformat_minor": 2
}
