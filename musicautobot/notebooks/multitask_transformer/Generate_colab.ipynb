{
  "nbformat": 4,
  "nbformat_minor": 0,
  "metadata": {
    "kernelspec": {
      "name": "python3",
      "display_name": "Python 3"
    },
    "language_info": {
      "codemirror_mode": {
        "name": "ipython",
        "version": 3
      },
      "file_extension": ".py",
      "mimetype": "text/x-python",
      "name": "python",
      "nbconvert_exporter": "python",
      "pygments_lexer": "ipython3",
      "version": "3.7.2"
    },
    "colab": {
      "name": "Generate_colab.ipynb",
      "provenance": [],
      "collapsed_sections": [],
      "include_colab_link": true
    },
    "accelerator": "GPU"
  },
  "cells": [
    {
      "cell_type": "markdown",
      "metadata": {
        "id": "view-in-github",
        "colab_type": "text"
      },
      "source": [
        "<a href=\"https://colab.research.google.com/github/bearpelican/musicautobot/blob/master/notebooks/multitask_transformer/Generate_colab.ipynb\" target=\"_parent\"><img src=\"https://colab.research.google.com/assets/colab-badge.svg\" alt=\"Open In Colab\"/></a>"
      ]
    },
    {
      "cell_type": "code",
      "metadata": {
        "id": "NLW5T8KdcX3E",
        "colab_type": "code",
        "colab": {}
      },
      "source": [
        "!git clone https://github.com/bearpelican/musicautobot.git"
      ],
      "execution_count": 0,
      "outputs": []
    },
    {
      "cell_type": "code",
      "metadata": {
        "id": "TCAs5NW5cX3L",
        "colab_type": "code",
        "colab": {}
      },
      "source": [
        "import os\n",
        "os.chdir('musicautobot')"
      ],
      "execution_count": 0,
      "outputs": []
    },
    {
      "cell_type": "code",
      "metadata": {
        "id": "L9etuKmTdT_m",
        "colab_type": "code",
        "colab": {}
      },
      "source": [
        "!nvidia-smi"
      ],
      "execution_count": 0,
      "outputs": []
    },
    {
      "cell_type": "code",
      "metadata": {
        "id": "0fYlE3becc1f",
        "colab_type": "code",
        "colab": {}
      },
      "source": [
        "!apt install musescore fluidsynth\n",
        "!cp /usr/share/sounds/sf2/FluidR3_GM.sf2 ./font.sf2\n",
        "!pip install torch fastai music21 pebble fluidsynth midi2audio"
      ],
      "execution_count": 0,
      "outputs": []
    },
    {
      "cell_type": "code",
      "metadata": {
        "id": "Wlug8tPUcX3O",
        "colab_type": "code",
        "colab": {}
      },
      "source": [
        "from musicautobot.numpy_encode import *\n",
        "from musicautobot.utils.file_processing import process_all, process_file\n",
        "from musicautobot.config import *\n",
        "from musicautobot.music_transformer import *\n",
        "from musicautobot.multitask_transformer import *\n",
        "from musicautobot.numpy_encode import stream2npenc_parts\n",
        "from musicautobot.utils.setup_musescore import setup_musescore\n",
        "setup_musescore()"
      ],
      "execution_count": 0,
      "outputs": []
    },
    {
      "cell_type": "code",
      "metadata": {
        "id": "StzS1R1mcjhp",
        "colab_type": "code",
        "colab": {}
      },
      "source": [
        "from midi2audio import FluidSynth\n",
        "from IPython.display import Audio"
      ],
      "execution_count": 0,
      "outputs": []
    },
    {
      "cell_type": "code",
      "metadata": {
        "id": "Wz0j0TcvclAw",
        "colab_type": "code",
        "colab": {}
      },
      "source": [
        "# Colab cannot play music directly from music21 - must convert to .wav first\n",
        "def play_wav(stream):\n",
        "    out_midi = stream.write('midi')\n",
        "    out_wav = str(Path(out_midi).with_suffix('.wav'))\n",
        "    FluidSynth(\"font.sf2\").midi_to_audio(out_midi, out_wav)\n",
        "    return Audio(out_wav)\n"
      ],
      "execution_count": 0,
      "outputs": []
    },
    {
      "cell_type": "markdown",
      "metadata": {
        "id": "5u3Sup04cX3S",
        "colab_type": "text"
      },
      "source": [
        "# Generate Music with Pretrained Model"
      ]
    },
    {
      "cell_type": "markdown",
      "metadata": {
        "id": "fqdq9pHOcX3T",
        "colab_type": "text"
      },
      "source": [
        "### Load Pretrained"
      ]
    },
    {
      "cell_type": "code",
      "metadata": {
        "id": "IE8TC8lfcX3U",
        "colab_type": "code",
        "colab": {}
      },
      "source": [
        "# Config\n",
        "config = multitask_config();\n",
        "\n",
        "# Location of your midi files\n",
        "midi_path =  Path('data/midi')\n",
        "\n",
        "# Location of saved datset\n",
        "data_path = Path('data/numpy')\n",
        "data_save_name = 'musicitem_data_save.pkl'"
      ],
      "execution_count": 0,
      "outputs": []
    },
    {
      "cell_type": "code",
      "metadata": {
        "id": "R88krbh1cX3W",
        "colab_type": "code",
        "colab": {}
      },
      "source": [
        "# Data\n",
        "data = MusicDataBunch.empty(data_path)\n",
        "vocab = data.vocab"
      ],
      "execution_count": 0,
      "outputs": []
    },
    {
      "cell_type": "code",
      "metadata": {
        "id": "hC531JPKcX3Y",
        "colab_type": "code",
        "colab": {}
      },
      "source": [
        "# Pretrained Model\n",
        "\n",
        "# Download pretrained model if you haven't already\n",
        "pretrained_url = 'https://ashaw-midi-web-server.s3-us-west-2.amazonaws.com/pretrained/MultitaskSmallKeyC.pth'\n",
        "# pretrained_url = 'https://ashaw-midi-web-server.s3-us-west-2.amazonaws.com/pretrained/MultitaskSmall.pth'\n",
        "\n",
        "pretrained_path = data_path/'pretrained'/Path(pretrained_url).name\n",
        "pretrained_path.parent.mkdir(parents=True, exist_ok=True)\n",
        "download_url(pretrained_url, dest=pretrained_path)"
      ],
      "execution_count": 0,
      "outputs": []
    },
    {
      "cell_type": "code",
      "metadata": {
        "id": "ujbf2949cX3b",
        "colab_type": "code",
        "colab": {}
      },
      "source": [
        "# Learner\n",
        "learn = multitask_model_learner(data, pretrained_path=pretrained_path)\n",
        "# learn.to_fp16();"
      ],
      "execution_count": 0,
      "outputs": []
    },
    {
      "cell_type": "markdown",
      "metadata": {
        "id": "lpoQP5ZVcX3d",
        "colab_type": "text"
      },
      "source": [
        "### Choose existing midi file as a starting point"
      ]
    },
    {
      "cell_type": "code",
      "metadata": {
        "id": "ovaLLyFbcX3e",
        "colab_type": "code",
        "colab": {}
      },
      "source": [
        "example_dir = midi_path/'examples'\n",
        "midi_files = get_files(example_dir, recurse=True, extensions='.mid'); midi_files[:5]"
      ],
      "execution_count": 0,
      "outputs": []
    },
    {
      "cell_type": "code",
      "metadata": {
        "id": "9AShtRpNcX3h",
        "colab_type": "code",
        "colab": {}
      },
      "source": [
        "file = midi_files[3]; file"
      ],
      "execution_count": 0,
      "outputs": []
    },
    {
      "cell_type": "code",
      "metadata": {
        "id": "CQd84OekcX3k",
        "colab_type": "code",
        "colab": {}
      },
      "source": [
        "# Encode file \n",
        "item = MusicItem.from_file(file, data.vocab)\n",
        "\n",
        "x = item.to_tensor()\n",
        "x_pos = item.get_pos_tensor()"
      ],
      "execution_count": 0,
      "outputs": []
    },
    {
      "cell_type": "code",
      "metadata": {
        "id": "57DlVAp1cX3n",
        "colab_type": "code",
        "colab": {}
      },
      "source": [
        "item.show()"
      ],
      "execution_count": 0,
      "outputs": []
    },
    {
      "cell_type": "code",
      "metadata": {
        "id": "7NAwJ3A6cX3q",
        "colab_type": "code",
        "colab": {}
      },
      "source": [
        "# item.play()\n",
        "play_wav(item.stream)"
      ],
      "execution_count": 0,
      "outputs": []
    },
    {
      "cell_type": "markdown",
      "metadata": {
        "id": "yQ-ZyQX9cX3s",
        "colab_type": "text"
      },
      "source": [
        "## Generate"
      ]
    },
    {
      "cell_type": "markdown",
      "metadata": {
        "id": "A08P9D2JcX3t",
        "colab_type": "text"
      },
      "source": [
        "MultitaskTransformer trains on 3 separate tasks. \n",
        "1. NextWord\n",
        "2. Mask\n",
        "3. Sequence to Sequence"
      ]
    },
    {
      "cell_type": "markdown",
      "metadata": {
        "id": "dF9uAEdYcX3u",
        "colab_type": "text"
      },
      "source": [
        "Because we train on 3 separate tasks, we can actually generate some really cool note sequences.\n",
        "\n",
        "1. NextWord/Autocomplete - Take a sequence of notes and predict the next note\n",
        " * 1a. Vanilla Language Model predictions - See [MusicTransformer](../music_transformer) project\n",
        "\n",
        "\n",
        "2. Mask/Remix - Mask certain parts of song and remix those portions.\n",
        " * 2a. Note Masking - Mask all the note pitches and create a new sequence with different notes, but same exact rhythm\n",
        " * 2b. Duration Masking - Mask the note durations. Generate a new sequence with the same melody, but with a different rhythm\n",
        "\n",
        "\n",
        "3. Seq2Seq/Translation - Generate melody from chords or vice versa. \n",
        " * 3a. New Melody - Generate a new melody from existing chords\n",
        " * 3b. Harmonization - Generate chords to acompany an existing melody"
      ]
    },
    {
      "cell_type": "markdown",
      "metadata": {
        "id": "4WFB3lIscX3v",
        "colab_type": "text"
      },
      "source": [
        "## 1. NextWord/Autocomplete\n",
        "\n",
        "Trim the song to only a few notes. Model will use these notes a seed and continue the idea"
      ]
    },
    {
      "cell_type": "code",
      "metadata": {
        "id": "i6RpYxmIcX3w",
        "colab_type": "code",
        "colab": {}
      },
      "source": [
        "seed_len = 6 # 4 beats = 1 bar\n",
        "seed = item.trim_to_beat(seed_len)"
      ],
      "execution_count": 0,
      "outputs": []
    },
    {
      "cell_type": "code",
      "metadata": {
        "id": "BQTGsKEccX3y",
        "colab_type": "code",
        "colab": {}
      },
      "source": [
        "seed.show()"
      ],
      "execution_count": 0,
      "outputs": []
    },
    {
      "cell_type": "code",
      "metadata": {
        "id": "sY1S6x_FcX30",
        "colab_type": "code",
        "colab": {}
      },
      "source": [
        "pred_nw, full = learn.predict_nw(seed, n_words=200)"
      ],
      "execution_count": 0,
      "outputs": []
    },
    {
      "cell_type": "code",
      "metadata": {
        "id": "Z88xHG_qcX33",
        "colab_type": "code",
        "colab": {}
      },
      "source": [
        "pred_nw.show()"
      ],
      "execution_count": 0,
      "outputs": []
    },
    {
      "cell_type": "code",
      "metadata": {
        "scrolled": true,
        "id": "3LAOILA8cX35",
        "colab_type": "code",
        "colab": {}
      },
      "source": [
        "play_wav(pred_nw.stream)"
      ],
      "execution_count": 0,
      "outputs": []
    },
    {
      "cell_type": "markdown",
      "metadata": {
        "id": "lMTkgf2OcX38",
        "colab_type": "text"
      },
      "source": [
        "Add more randomness"
      ]
    },
    {
      "cell_type": "code",
      "metadata": {
        "id": "Gytv3l22cX39",
        "colab_type": "code",
        "colab": {}
      },
      "source": [
        "pitch_temp = 1.4 # randomness of melody\n",
        "tempo_temp = 1.0 # randomness or rhythm\n",
        "top_k = 40\n",
        "pred_nw_rand, full = learn.predict_nw(seed, temperatures=(pitch_temp, tempo_temp), top_k=top_k, top_p=0.5)\n",
        "pred_nw_rand.show()"
      ],
      "execution_count": 0,
      "outputs": []
    },
    {
      "cell_type": "code",
      "metadata": {
        "id": "QXQtaJc0d_n_",
        "colab_type": "code",
        "colab": {}
      },
      "source": [
        "play_wav(pred_nw_rand.stream)"
      ],
      "execution_count": 0,
      "outputs": []
    },
    {
      "cell_type": "code",
      "metadata": {
        "id": "byUvCf4McX4C",
        "colab_type": "code",
        "colab": {}
      },
      "source": [
        "# Convenience function\n",
        "# out = nw_predict_from_midi(learn, file, seed_len=seed_len, top_k=30, top_p=0.5); out.show()"
      ],
      "execution_count": 0,
      "outputs": []
    },
    {
      "cell_type": "markdown",
      "metadata": {
        "id": "nQRnIDhocX4o",
        "colab_type": "text"
      },
      "source": [
        "## 2. Seq2Seq/Translation"
      ]
    },
    {
      "cell_type": "markdown",
      "metadata": {
        "id": "gtjVp2M4cX4p",
        "colab_type": "text"
      },
      "source": [
        "Load MultitrackItem.\n",
        "\n",
        "MultitrackItem keeps track of which notes are part of the melody and which notes are part of the chords.  \n",
        "This info is needed for translation task"
      ]
    },
    {
      "cell_type": "code",
      "metadata": {
        "id": "cux2aE7YcX4p",
        "colab_type": "code",
        "colab": {}
      },
      "source": [
        "multitrack_item = MultitrackItem.from_file(file, vocab)"
      ],
      "execution_count": 0,
      "outputs": []
    },
    {
      "cell_type": "code",
      "metadata": {
        "id": "fR4zixCEcX4r",
        "colab_type": "code",
        "colab": {}
      },
      "source": [
        "melody, chords = multitrack_item.melody, multitrack_item.chords"
      ],
      "execution_count": 0,
      "outputs": []
    },
    {
      "cell_type": "code",
      "metadata": {
        "id": "dl9nGobNcX4u",
        "colab_type": "code",
        "colab": {}
      },
      "source": [
        "melody.show()"
      ],
      "execution_count": 0,
      "outputs": []
    },
    {
      "cell_type": "code",
      "metadata": {
        "id": "J_AQG8QCcX4w",
        "colab_type": "code",
        "colab": {}
      },
      "source": [
        "chords.show()"
      ],
      "execution_count": 0,
      "outputs": []
    },
    {
      "cell_type": "code",
      "metadata": {
        "id": "ITC7MqBHcX4y",
        "colab_type": "code",
        "colab": {}
      },
      "source": [
        "multitrack_item.play()"
      ],
      "execution_count": 0,
      "outputs": []
    },
    {
      "cell_type": "code",
      "metadata": {
        "id": "DxdegKd9c9Ji",
        "colab_type": "code",
        "colab": {}
      },
      "source": [
        "play_wav(multitrack_item.stream)"
      ],
      "execution_count": 0,
      "outputs": []
    },
    {
      "cell_type": "markdown",
      "metadata": {
        "colab_type": "text",
        "id": "nRnZH289e97c"
      },
      "source": [
        "## 2a. Create Melody\n",
        "\n",
        "Use existing chord progression to generate a new melody"
      ]
    },
    {
      "cell_type": "code",
      "metadata": {
        "colab_type": "code",
        "id": "RnSIGuCVe97X",
        "colab": {}
      },
      "source": [
        "# Use a seed for the melody\n",
        "partial_melody = melody.trim_to_beat(4)\n",
        "\n",
        "# Or generate from an empty sequence\n",
        "empty_melody = MusicItem.empty(vocab, seq_type=SEQType.Melody)"
      ],
      "execution_count": 0,
      "outputs": []
    },
    {
      "cell_type": "code",
      "metadata": {
        "colab_type": "code",
        "id": "9i_AWscAe97T",
        "colab": {}
      },
      "source": [
        "seed_melody = empty_melody; seed_melody.show()"
      ],
      "execution_count": 0,
      "outputs": []
    },
    {
      "cell_type": "code",
      "metadata": {
        "colab_type": "code",
        "id": "9srCEkhLe97P",
        "colab": {}
      },
      "source": [
        "pred_melody = learn.predict_s2s(chords, seed_melody, use_memory=True)\n",
        "pred_melody.show()"
      ],
      "execution_count": 0,
      "outputs": []
    },
    {
      "cell_type": "code",
      "metadata": {
        "colab_type": "code",
        "id": "UYGaz2Gme97E",
        "colab": {}
      },
      "source": [
        "play_wav(pred_melody.stream)"
      ],
      "execution_count": 0,
      "outputs": []
    },
    {
      "cell_type": "code",
      "metadata": {
        "colab_type": "code",
        "id": "67VVYrmle97B",
        "colab": {}
      },
      "source": [
        "combined = MultitrackItem(pred_melody, chords)\n",
        "combined.show()"
      ],
      "execution_count": 0,
      "outputs": []
    },
    {
      "cell_type": "code",
      "metadata": {
        "colab_type": "code",
        "id": "opwBpBmbe964",
        "colab": {}
      },
      "source": [
        "play_wav(combined.stream)"
      ],
      "execution_count": 0,
      "outputs": []
    },
    {
      "cell_type": "markdown",
      "metadata": {
        "colab_type": "text",
        "id": "WSoL0V_We963"
      },
      "source": [
        "## 2b. Harmonization\n",
        "\n",
        "Generate chords to accompany an existing melody"
      ]
    },
    {
      "cell_type": "code",
      "metadata": {
        "colab_type": "code",
        "id": "zu5kct73e96y",
        "colab": {}
      },
      "source": [
        "# partial_chords = chords.trim_to_beat(3);\n",
        "# partial_chords.show()\n",
        "\n",
        "empty_chords = MusicItem.empty(vocab, seq_type=SEQType.Chords); empty_chords.show()"
      ],
      "execution_count": 0,
      "outputs": []
    },
    {
      "cell_type": "code",
      "metadata": {
        "colab_type": "code",
        "id": "2jr7znaQe96t",
        "colab": {}
      },
      "source": [
        "pred_chord = learn.predict_s2s(input_item=melody, target_item=empty_chords)"
      ],
      "execution_count": 0,
      "outputs": []
    },
    {
      "cell_type": "code",
      "metadata": {
        "colab_type": "code",
        "id": "4BX5Qhbee96n",
        "colab": {}
      },
      "source": [
        "pred_chord.show()"
      ],
      "execution_count": 0,
      "outputs": []
    },
    {
      "cell_type": "code",
      "metadata": {
        "colab_type": "code",
        "id": "efzCw_kfe96i",
        "colab": {}
      },
      "source": [
        "combined = MultitrackItem(melody, pred_chord)\n",
        "combined.show()"
      ],
      "execution_count": 0,
      "outputs": []
    },
    {
      "cell_type": "code",
      "metadata": {
        "colab_type": "code",
        "id": "J8JZo71Pe96S",
        "colab": {}
      },
      "source": [
        "play_wav(combined.stream)"
      ],
      "execution_count": 0,
      "outputs": []
    },
    {
      "cell_type": "code",
      "metadata": {
        "colab_type": "code",
        "id": "8itZPefde96M",
        "colab": {}
      },
      "source": [
        "# Convenience Function\n",
        "\n",
        "# out = s2s_predict_from_midi(learn, file, seed_len=10); out.show()"
      ],
      "execution_count": 0,
      "outputs": []
    },
    {
      "cell_type": "markdown",
      "metadata": {
        "id": "Td9sxdvocX4F",
        "colab_type": "text"
      },
      "source": [
        "## 3. Mask/Remix"
      ]
    },
    {
      "cell_type": "markdown",
      "metadata": {
        "id": "chz6k0HUcX4G",
        "colab_type": "text"
      },
      "source": [
        "### 3a. Remix Notes\n",
        "\n",
        "Mask all the note pitches. Model will create a new song with the same rhythm"
      ]
    },
    {
      "cell_type": "code",
      "metadata": {
        "id": "QJaWCnM0cX4H",
        "colab_type": "code",
        "colab": {}
      },
      "source": [
        "### Mask notes\n",
        "note_item = item.mask_pitch();"
      ],
      "execution_count": 0,
      "outputs": []
    },
    {
      "cell_type": "code",
      "metadata": {
        "id": "AMhdMYDIcX4J",
        "colab_type": "code",
        "colab": {}
      },
      "source": [
        "# Mask vs Original\n",
        "list(zip(note_item.to_text(None)[:20], item.to_text(None)[:20]))"
      ],
      "execution_count": 0,
      "outputs": []
    },
    {
      "cell_type": "code",
      "metadata": {
        "id": "lQJ0GbqDcX4L",
        "colab_type": "code",
        "colab": {}
      },
      "source": [
        "pred_note = learn.predict_mask(note_item, temperatures=(1.4, 1.0))"
      ],
      "execution_count": 0,
      "outputs": []
    },
    {
      "cell_type": "code",
      "metadata": {
        "id": "DxDg7aDZcX4P",
        "colab_type": "code",
        "colab": {}
      },
      "source": [
        "pred_note.show()"
      ],
      "execution_count": 0,
      "outputs": []
    },
    {
      "cell_type": "code",
      "metadata": {
        "id": "vAWuXYQqcX4a",
        "colab_type": "code",
        "colab": {}
      },
      "source": [
        "play_wav(pred_note.stream)"
      ],
      "execution_count": 0,
      "outputs": []
    },
    {
      "cell_type": "markdown",
      "metadata": {
        "id": "x5-pfAv2cX4d",
        "colab_type": "text"
      },
      "source": [
        "### 3b. Remix rhythm\n",
        "\n",
        "Mask note durations. Same notes, different rhythm"
      ]
    },
    {
      "cell_type": "code",
      "metadata": {
        "id": "w3U-r2YBcX4d",
        "colab_type": "code",
        "colab": {}
      },
      "source": [
        "# duration mask\n",
        "dur_item = item.mask_duration()"
      ],
      "execution_count": 0,
      "outputs": []
    },
    {
      "cell_type": "code",
      "metadata": {
        "id": "rsNtNDpNcX4f",
        "colab_type": "code",
        "colab": {}
      },
      "source": [
        "# Mask vs Original\n",
        "list(zip(dur_item.to_text(None)[:10], item.to_text(None)[:10]))"
      ],
      "execution_count": 0,
      "outputs": []
    },
    {
      "cell_type": "code",
      "metadata": {
        "id": "MaTeilzpcX4h",
        "colab_type": "code",
        "colab": {}
      },
      "source": [
        "dur_pred = learn.predict_mask(dur_item, temperatures=(0.8,0.8), top_k=40, top_p=0.6)"
      ],
      "execution_count": 0,
      "outputs": []
    },
    {
      "cell_type": "code",
      "metadata": {
        "id": "_sDkCHA9cX4k",
        "colab_type": "code",
        "colab": {}
      },
      "source": [
        "dur_pred.show()"
      ],
      "execution_count": 0,
      "outputs": []
    },
    {
      "cell_type": "code",
      "metadata": {
        "id": "ecJL5whdc4-8",
        "colab_type": "code",
        "colab": {}
      },
      "source": [
        "play_wav(dur_pred.stream)"
      ],
      "execution_count": 0,
      "outputs": []
    },
    {
      "cell_type": "code",
      "metadata": {
        "id": "9AVn6QrHcX4m",
        "colab_type": "code",
        "colab": {}
      },
      "source": [
        "# Convenience function\n",
        "# out = mask_predict_from_midi(learn, file, predict_notes=True)"
      ],
      "execution_count": 0,
      "outputs": []
    }
  ]
}